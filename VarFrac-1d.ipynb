{
 "cells": [
  {
   "cell_type": "code",
   "execution_count": 1,
   "metadata": {},
   "outputs": [],
   "source": [
    "from fenics import *\n",
    "from mshr import *\n",
    "import matplotlib.pyplot as plt\n",
    "import numpy as np\n",
    "import sys, os, sympy, shutil, math\n",
    "parameters.plotting_backend = \"matplotlib\"\n",
    "%matplotlib inline\n",
    "parameters.form_compiler.update({\"optimize\": True, \"cpp_optimize\": True, \n",
    "                                 \"representation\":\"quadrature\", \"quadrature_degree\": 2})"
   ]
  },
  {
   "cell_type": "code",
   "execution_count": 2,
   "metadata": {},
   "outputs": [
    {
     "data": {
      "text/plain": [
       "[<matplotlib.lines.Line2D at 0x11a91d240>]"
      ]
     },
     "execution_count": 2,
     "metadata": {},
     "output_type": "execute_result"
    },
    {
     "data": {
      "image/png": "[encoded data removed]",
      "text/plain": [
       "<matplotlib.figure.Figure at 0x11a7f1518>"
      ]
     },
     "metadata": {},
     "output_type": "display_data"
    }
   ],
   "source": [
    "L = 1.; H = 0.1;\n",
    "cell_size = 0.02;\n",
    "nel = int(L/cell_size)\n",
    "mesh = UnitIntervalMesh(100)\n",
    "ndim = mesh.topology().dim() # get number of space dimensions\n",
    "plot(mesh)"
   ]
  },
  {
   "cell_type": "markdown",
   "metadata": {},
   "source": [
    "### Boundary indicators  (skip) \n",
    "We define below boundary indicators to impose boundary conditions and add the corresponding tags to the boundaries."
   ]
  },
  {
   "cell_type": "code",
   "execution_count": 3,
   "metadata": {},
   "outputs": [
    {
     "data": {
      "text/plain": [
       "[<matplotlib.lines.Line2D at 0x11aa5f080>]"
      ]
     },
     "execution_count": 3,
     "metadata": {},
     "output_type": "execute_result"
    },
    {
     "data": {
      "image/png": "[encoded data removed]",
      "text/plain": [
       "<matplotlib.figure.Figure at 0x11a91d048>"
      ]
     },
     "metadata": {},
     "output_type": "display_data"
    }
   ],
   "source": [
    "left = CompiledSubDomain(\"near(x[0], 0, 1e-4)\")\n",
    "right = CompiledSubDomain(\"near(x[0], %s, 1e-4)\"%L)\n",
    "boundaries = FacetFunction(\"size_t\", mesh)\n",
    "boundaries.set_all(0)\n",
    "left.mark(boundaries, 1) # mark left as 1\n",
    "right.mark(boundaries, 2) # mark right as 2\n",
    "ds = Measure(\"ds\",subdomain_data=boundaries) # left: ds(1), right: ds(2)\n",
    "plot(mesh)"
   ]
  },
  {
   "cell_type": "markdown",
   "metadata": {},
   "source": [
    "# Variational formulation of the problem"
   ]
  },
  {
   "cell_type": "code",
   "execution_count": 4,
   "metadata": {},
   "outputs": [
    {
     "ename": "NameError",
     "evalue": "name 'eps_c' is not defined",
     "output_type": "error",
     "traceback": [
      "\u001b[0;31m---------------------------------------------------------------------------\u001b[0m",
      "\u001b[0;31mNameError\u001b[0m                                 Traceback (most recent call last)",
      "\u001b[0;32m<ipython-input-4-5c6578f29f64>\u001b[0m in \u001b[0;36m<module>\u001b[0;34m()\u001b[0m\n\u001b[1;32m      5\u001b[0m \u001b[0mc2\u001b[0m \u001b[0;34m=\u001b[0m \u001b[0mConstant\u001b[0m\u001b[0;34m(\u001b[0m\u001b[0;36m.05\u001b[0m\u001b[0;34m)\u001b[0m\u001b[0;34m\u001b[0m\u001b[0m\n\u001b[1;32m      6\u001b[0m \u001b[0mdt\u001b[0m \u001b[0;34m=\u001b[0m \u001b[0;36m0.01\u001b[0m\u001b[0;34m\u001b[0m\u001b[0m\n\u001b[0;32m----> 7\u001b[0;31m \u001b[0mload0\u001b[0m \u001b[0;34m=\u001b[0m \u001b[0mfloat\u001b[0m\u001b[0;34m(\u001b[0m\u001b[0meps_c\u001b[0m\u001b[0;34m)\u001b[0m\u001b[0;34m*\u001b[0m\u001b[0mL\u001b[0m \u001b[0;31m# reference value for the loading (imposed displacement)\u001b[0m\u001b[0;34m\u001b[0m\u001b[0m\n\u001b[0m\u001b[1;32m      8\u001b[0m \u001b[0mload_max\u001b[0m \u001b[0;34m=\u001b[0m \u001b[0mload0\u001b[0m\u001b[0;34m*\u001b[0m\u001b[0;36m1.5\u001b[0m\u001b[0;34m\u001b[0m\u001b[0m\n\u001b[1;32m      9\u001b[0m \u001b[0mload_min\u001b[0m \u001b[0;34m=\u001b[0m \u001b[0;36m0.\u001b[0m\u001b[0;34m\u001b[0m\u001b[0m\n",
      "\u001b[0;31mNameError\u001b[0m: name 'eps_c' is not defined"
     ]
    }
   ],
   "source": [
    "E = Constant(100.0)\n",
    "Gc = Constant(1.0)\n",
    "ell = Constant(0.05)\n",
    "c1 = Constant(0.)\n",
    "c2 = Constant(.05)\n",
    "dt = 0.01\n",
    "load0 = float(eps_c)*L # reference value for the loading (imposed displacement)\n",
    "load_max = load0*1.5\n",
    "load_min = 0.\n",
    "nsteps = int((load_max-load_min)/dt)\n",
    "loads = load0*np.linspace(0,1.5,nsteps)\n",
    "print(nsteps)"
   ]
  },
  {
   "cell_type": "code",
   "execution_count": null,
   "metadata": {},
   "outputs": [],
   "source": [
    "def w(alpha):\n",
    "    \"\"\"Dissipated energy function as a function of the damage \"\"\"\n",
    "    return alpha\n",
    "\n",
    "def a(alpha):\n",
    "    \"\"\"Stiffness modulation as a function of the damage \"\"\"\n",
    "    k_ell = Constant(1.e-6) # residual stiffness\n",
    "    return (1-alpha)**2+k_ell\n",
    "\n",
    "def eps(u):\n",
    "    \"\"\"Strain tensor as a function of the displacement\"\"\"\n",
    "    return u.dx(0)\n",
    "\n",
    "def sigma_0(u):\n",
    "    \"\"\"Stress tensor of the undamaged material as a function of the displacement\"\"\"\n",
    "    return E*eps(u)\n",
    "\n",
    "def sigma(u,alpha):\n",
    "    \"\"\"Stress tensor of the damaged material as a function of the displacement and the damage\"\"\"\n",
    "    return (a(alpha))*sigma_0(u)\n",
    "\n",
    "z = sympy.Symbol(\"z\")\n",
    "c_w = 4*sympy.integrate(sympy.sqrt(w(z)),(z,0,1))\n",
    "print(\"c_w = \",c_w)\n",
    "c_1w = sympy.integrate(sympy.sqrt(1/w(z)),(z,0,1))\n",
    "print(\"c_1/w = \",c_1w)\n",
    "tmp = 2*(sympy.diff(w(z),z)/sympy.diff(1/a(z),z)).subs({\"z\":0})\n",
    "sigma_c = sympy.sqrt(tmp*Gc*E/(c_w*ell))\n",
    "print(\"sigma_c = %2.3f\"%sigma_c)\n",
    "eps_c = float(sigma_c/E)\n",
    "print(\"eps_c = %2.3f\"%eps_c)\n"
   ]
  },
  {
   "cell_type": "markdown",
   "metadata": {},
   "source": [
    "## Finite element function space\n",
    "\n",
    "We use $P_1$ finite element (triangle with linear Lagrange polynomial as shape functions and nodal values as dofs) for both displacement and damage. "
   ]
  },
  {
   "cell_type": "code",
   "execution_count": null,
   "metadata": {},
   "outputs": [],
   "source": [
    "# Create function space for 2D elasticity + Damage\n",
    "V_u = FunctionSpace(mesh, \"P\", 1)\n",
    "V_alpha = FunctionSpace(mesh, \"P\", 1)\n",
    "\n",
    "# Define the function, test and trial fields\n",
    "u, du, v = Function(V_u), TrialFunction(V_u), TestFunction(V_u)\n",
    "alpha, dalpha, beta = Function(V_alpha), TrialFunction(V_alpha), TestFunction(V_alpha)\n",
    "u.rename('displacement','displacement')\n",
    "alpha.rename('damage','damage')"
   ]
  },
  {
   "cell_type": "code",
   "execution_count": null,
   "metadata": {},
   "outputs": [],
   "source": [
    "# Displacement\n",
    "u_R = Expression(\"t\",t = 0.,degree=0)\n",
    "bcu_0 = DirichletBC(V_u, u_R, boundaries, 2)\n",
    "bcu_1 = DirichletBC(V_u, Constant(0.), boundaries, 1)\n",
    "bc_u = [bcu_0, bcu_1]\n",
    "# Damage\n",
    "bcalpha_0 = DirichletBC(V_alpha, 0.0, boundaries, 1)\n",
    "bcalpha_1 = DirichletBC(V_alpha, 0.0, boundaries, 2)\n",
    "bc_alpha = [bcalpha_0, bcalpha_1]\n",
    "# bounds\n",
    "lb = interpolate(Constant(\"0.\"), V_alpha) # lower bound, initialize to 0\n",
    "ub = interpolate(Constant(\"1.\"), V_alpha) # upper bound, set to 1\n",
    "for bc in bc_alpha:\n",
    "    bc.apply(lb.vector())\n",
    "    bc.apply(ub.vector())\n",
    "# Formulation     \n",
    "elastic_energy = 0.5*inner(sigma(u,alpha), eps(u))*dx\n",
    "dissipated_energy = Gc/float(c_w)*(w(alpha)/ell + ell*dot(grad(alpha), grad(alpha)))*dx\n",
    "visco_energy= 0.5/dt*c1*((alpha-lb)**2)*dx + 0.5/dt*c2*(dot(grad((alpha-lb)),grad((alpha-lb))))*dx \n",
    "total_energy = elastic_energy + dissipated_energy + visco_energy\n",
    "# First directional derivative wrt u\n",
    "E_u = derivative(total_energy,u,v)\n",
    "# First and second directional derivative wrt alpha\n",
    "E_alpha = derivative(total_energy,alpha,beta)\n",
    "E_alpha_alpha = derivative(E_alpha,alpha,dalpha)"
   ]
  },
  {
   "cell_type": "markdown",
   "metadata": {},
   "source": [
    "### Boundary conditions\n",
    "We impose the boundary conditions on the displacement and the damage field. \n",
    "- We impose null damage where there are Dirichlet boundary condition on the displacement\n",
    "- We use an Expression for the imposed displacement to vary it during the loading history"
   ]
  },
  {
   "cell_type": "markdown",
   "metadata": {},
   "source": [
    "# Solvers"
   ]
  },
  {
   "cell_type": "markdown",
   "metadata": {},
   "source": [
    "### Displacement problem\n",
    "The $u$-problem at fixed $\\alpha$ is a linear problem corresponding with linear elasticity. We solve it with a standard linear solver. We use automatic differention to get the first derivative of the energy. We use a direct solve to solve the linear system (`umfpack`), but you can also easily set iterative solvers and preconditioners when solving large problem in parallel."
   ]
  },
  {
   "cell_type": "code",
   "execution_count": null,
   "metadata": {},
   "outputs": [],
   "source": [
    "E_du = replace(E_u,{u:du})\n",
    "problem_u = LinearVariationalProblem(lhs(E_du), rhs(E_du), u, bc_u)\n",
    "solver_u = LinearVariationalSolver(problem_u)\n",
    "solver_u.parameters.update({\"linear_solver\" : \"umfpack\"})"
   ]
  },
  {
   "cell_type": "markdown",
   "metadata": {},
   "source": [
    "### Damage problem with bound-constraints\n",
    "\n",
    "The $\\alpha$-problem at fixed $u$ is a variational inequality, because of the irreversibility constraint. We solve it using a specific solver for optimisation problems with bound-constraints provided by `PETSC`, called `TAO`. To this end we define with a specific syntax a class defining the function to be minimised, and the lower (`lb`) and upper (`ub`) bounds. "
   ]
  },
  {
   "cell_type": "code",
   "execution_count": null,
   "metadata": {},
   "outputs": [],
   "source": [
    "class DamageProblem(OptimisationProblem):\n",
    "\n",
    "    def f(self, x):\n",
    "        \"\"\"Function to be minimised\"\"\"\n",
    "        alpha.vector()[:] = x\n",
    "        return assemble(total_energy)\n",
    "\n",
    "    def F(self, b, x):\n",
    "        \"\"\"Gradient (first derivative)\"\"\"\n",
    "        alpha.vector()[:] = x\n",
    "        assemble(E_alpha, b)\n",
    "\n",
    "    def J(self, A, x):\n",
    "        \"\"\"Hessian (second derivative)\"\"\"\n",
    "        alpha.vector()[:] = x\n",
    "        assemble(E_alpha_alpha, A)\n",
    "\n",
    "solver_alpha_tao = PETScTAOSolver()\n",
    "solver_alpha_tao.parameters.update({\"method\": \"tron\",\"linear_solver\" : \"umfpack\", \n",
    "                                    \"line_search\": \"gpcg\", \"report\": True})\n"
   ]
  },
  {
   "cell_type": "markdown",
   "metadata": {},
   "source": [
    "### Alternate minimization\n",
    "\n",
    "We solve the nonlinear problem in $(u,\\alpha)$ at each time-step by a fixed-point algorithm consisting in alternate minimization with respect to $u$ at fixed $\\alpha$ and viceversa, *i.e.* we solve till convergence the $u$- and the $\\alpha$-problems above."
   ]
  },
  {
   "cell_type": "code",
   "execution_count": null,
   "metadata": {},
   "outputs": [],
   "source": [
    "def alternate_minimization(u,alpha,tol=1.e-5,maxiter=100,alpha_0=interpolate(Constant(\"0.0\"), V_alpha)):\n",
    "    # initialization\n",
    "    iter = 1; err_alpha = 1\n",
    "    alpha_error = Function(V_alpha)\n",
    "    # iteration loop\n",
    "    while err_alpha>tol and iter<maxiter:\n",
    "        # solve elastic problem\n",
    "        solver_u.solve()\n",
    "        # solve damage problem\n",
    "        #solver_alpha.solve()\n",
    "        solver_alpha_tao.solve(DamageProblem(), alpha.vector(), lb.vector(), ub.vector())# test error\n",
    "        alpha_error.vector()[:] = alpha.vector() - alpha_0.vector()\n",
    "        err_alpha = np.linalg.norm(alpha_error.vector().array(), ord = np.Inf)\n",
    "        # monitor the results\n",
    "        if mpi_comm_world().rank == 0:\n",
    "            print(\"Iteration:  %2d, Error: %2.8g, alpha_max: %.8g\" %(iter, err_alpha, alpha.vector().max()))\n",
    "        # update iteration\n",
    "        alpha_0.assign(alpha)\n",
    "        iter=iter+1\n",
    "    return (err_alpha, iter)"
   ]
  },
  {
   "cell_type": "markdown",
   "metadata": {},
   "source": [
    "## Time-step post-processing (skip)\n",
    "\n",
    "We define here a utility function performing some post-processing to do at the end of each time-step.\n",
    "You can sefely skip reading this section in a first reading of the code. "
   ]
  },
  {
   "cell_type": "code",
   "execution_count": null,
   "metadata": {},
   "outputs": [],
   "source": [
    "savedir = \"results/\"\n",
    "if os.path.isdir(savedir):\n",
    "    shutil.rmtree(savedir)    \n",
    "file_alpha = File(savedir+\"/alpha.pvd\") \n",
    "file_u = File(savedir+\"/u.pvd\") \n",
    "#  loading and initialization of vectors to store time datas\n",
    "energies = np.zeros((len(loads),5))\n",
    "iterations = np.zeros((len(loads),2))\n",
    "forces = np.zeros((len(loads),2))\n",
    "def postprocessing():\n",
    "    plt.figure(i_t)\n",
    "    plot(alpha, range_min = 0., range_max = 1., title = \"Damage at loading %.4f\"%t)\n",
    "    # Save number of iterations for the time step\n",
    "    iterations[i_t] = np.array([t,i_t])\n",
    "    # Calculate the energies\n",
    "    elastic_energy_value = assemble(elastic_energy)\n",
    "    surface_energy_value = assemble(dissipated_energy)\n",
    "    visco_energy_value = assemble(visco_energy)\n",
    "    if mpi_comm_world().rank == 0:\n",
    "        print(\"\\nEnd of timestep %d with load %g\"%(i_t, t))\n",
    "        print(\"\\nElastic and surface energies: (%g,%g)\"%(elastic_energy_value,surface_energy_value))\n",
    "        print(\"-----------------------------------------\")\n",
    "    energies[i_t] = np.array(\n",
    "        [t,elastic_energy_value,\n",
    "         surface_energy_value,\n",
    "         elastic_energy_value+surface_energy_value,\n",
    "         visco_energy_value+sum(energies[:,4])])\n",
    "    # Calculate the axial force resultant\n",
    "    forces[i_t] = np.array([t,assemble(sigma(u,alpha)*ds(1))])\n",
    "    # Dump solution to file\n",
    "    file_alpha << (alpha,t)\n",
    "    file_u << (u,t)\n",
    "    # Save some global quantities as a function of the time\n",
    "    np.savetxt(savedir+'/energies.txt', energies)\n",
    "    np.savetxt(savedir+'/forces.txt', forces)\n",
    "    np.savetxt(savedir+'/iterations.txt', iterations)\n",
    "    #print(energies[:,4])"
   ]
  },
  {
   "cell_type": "markdown",
   "metadata": {},
   "source": [
    "## Solving at each time instant and loop in time\n",
    "\n",
    "Here we solve the problem finding the solution at each time step. This can take time. Computations are performed here."
   ]
  },
  {
   "cell_type": "code",
   "execution_count": null,
   "metadata": {},
   "outputs": [],
   "source": [
    "lb.interpolate(Constant(0.))\n",
    "for (i_t, t) in enumerate(loads):\n",
    "    u_R.t = t\n",
    "    # solve alternate minimization\n",
    "    alternate_minimization(u,alpha,maxiter=30)\n",
    "    # updating the lower bound to account for the irreversibility\n",
    "    lb.vector()[:] = alpha.vector()\n",
    "    postprocessing()\n"
   ]
  },
  {
   "cell_type": "markdown",
   "metadata": {},
   "source": [
    "# Postprocessing (skip)\n",
    "We show the final deformed configuration and damage field"
   ]
  },
  {
   "cell_type": "markdown",
   "metadata": {},
   "source": [
    "Hence we plot the energy and the traction force as a function of the loading"
   ]
  },
  {
   "cell_type": "code",
   "execution_count": null,
   "metadata": {},
   "outputs": [],
   "source": [
    "def critical_stress():\n",
    "    xs = sympy.Symbol('x')\n",
    "    wx = w(xs); sx = 1/(E*H*a(xs));\n",
    "    res = sympy.sqrt(2*(Gc*H/c_w)*wx.diff(xs)/(sx.diff(xs)*ell))\n",
    "    return res.evalf(subs={xs:0})\n",
    "\n",
    "def plot_stress():\n",
    "    plt.plot(forces[:,0], forces[:,1], 'b*', linewidth = 2)\n",
    "    plt.xlabel('Displacement')\n",
    "    plt.ylabel('Force')\n",
    "    force_cr = critical_stress()\n",
    "    plt.axvline(x = force_cr/(E*H)*L, color = 'grey', linestyle = '--', linewidth = 2)\n",
    "    plt.axhline(y = force_cr, color = 'grey', linestyle = '--', linewidth = 2)\n",
    "\n",
    "def plot_energy():\n",
    "    p1, = plt.plot(energies[:,0], energies[:,1],'b*',linewidth=2)\n",
    "    p2, = plt.plot(energies[:,0], energies[:,2],'r^',linewidth=2)\n",
    "    p3, = plt.plot(energies[:,0], energies[:,3],'ko',linewidth=2)\n",
    "    p4, = plt.plot(energies[:,0], energies[:,4],'g+',linewidth=2)\n",
    "    plt.legend([p1, p2, p3,p4], [\"Elastic\",\"Dissipated\", \"Total\", \"Visco\"])\n",
    "    plt.xlabel('Displacement')\n",
    "    plt.ylabel('Energies')\n",
    "    force_cr = critical_stress()\n",
    "    plt.axvline(x = force_cr/(E*H)*L, color = 'grey',linestyle = '--', linewidth = 2)\n",
    "    plt.axhline(y = H,color = 'grey', linestyle = '--', linewidth = 2)\n",
    "\n",
    "def plot_energy_stress():\n",
    "    plt.subplot(211)\n",
    "    plot_stress()\n",
    "    plt.subplot(212)\n",
    "    plot_energy()\n",
    "    plt.savefig(savedir+'/energies_force.png')\n",
    "    plt.show()\n",
    "\n",
    "plot_energy_stress()"
   ]
  },
  {
   "cell_type": "markdown",
   "metadata": {},
   "source": [
    "# Verification\n",
    "\n",
    "The plots above indicates that the crack appear at the elastic limit calculated analytically (see the gridlines) and that the dissipated energy coincide with the length of the crack times $G_c$. Let's check the latter explicity"
   ]
  },
  {
   "cell_type": "code",
   "execution_count": null,
   "metadata": {},
   "outputs": [],
   "source": [
    "print(\"The dissipated energy on a crack is %.3f\"%assemble(dissipated_energy))\n",
    "print(\"The expeceted value is %f\"%H)"
   ]
  },
  {
   "cell_type": "markdown",
   "metadata": {},
   "source": [
    "Let us look at the damage profile"
   ]
  },
  {
   "cell_type": "code",
   "execution_count": null,
   "metadata": {},
   "outputs": [],
   "source": [
    "xs = np.linspace(L/3,2*L/3,1000)\n",
    "plt.plot(xs,[alpha(x,H/2.) for x in xs], '-', label=\"damage profile\")\n",
    "plt.xlabel(\"x\")\n",
    "plt.ylabel(\"alpha\")\n",
    "plt.title(\"Damage profile\")\n",
    "print(\"The expected half-width of the damage localisation is %.2f\"%float(c_1w*ell))"
   ]
  },
  {
   "cell_type": "markdown",
   "metadata": {},
   "source": [
    "We can see that the over-dissipation in the finite element approcimation is due to the central element with unit damage, which should be a single point in the inifinite dimensional model. The error can be estimated as $G_c/c_w \\ell*H*h$, where $h$ is the mesh size. Let's check this estimation"
   ]
  },
  {
   "cell_type": "code",
   "execution_count": null,
   "metadata": {},
   "outputs": [],
   "source": [
    "Gcerr = float(Gc/c_w/ell)*mesh.hmax()*H\n",
    "print(Gcerr)"
   ]
  },
  {
   "cell_type": "markdown",
   "metadata": {},
   "source": [
    "This give a better agreement with the analytical result for infinite dimensional model. A numerical trick is to incorporate this error using a corrected value of the fracture toughness to use in the numerical simulations:\n",
    "$$\n",
    "    G_c^\\mathrm{num}=\\frac{G_c}{\\left(1+\\frac{h}{\\ell}c_w\\right)}\n",
    "$$"
   ]
  },
  {
   "cell_type": "code",
   "execution_count": null,
   "metadata": {},
   "outputs": [],
   "source": [
    "print(\"The corrected value of the dissipated energy in the discrete model is %f\"% float(Gcerr+Gc*H))\n",
    "print(\"The dissipated energy on a crack is %.3f\"%assemble(dissipated_energy))"
   ]
  },
  {
   "cell_type": "code",
   "execution_count": null,
   "metadata": {},
   "outputs": [],
   "source": []
  }
 ],
 "metadata": {
  "kernelspec": {
   "display_name": "Python 3",
   "language": "python",
   "name": "python3"
  },
  "language_info": {
   "codemirror_mode": {
    "name": "ipython",
    "version": 3
   },
   "file_extension": ".py",
   "mimetype": "text/x-python",
   "name": "python",
   "nbconvert_exporter": "python",
   "pygments_lexer": "ipython3",
   "version": "3.6.3"
  }
 },
 "nbformat": 4,
 "nbformat_minor": 2
}
