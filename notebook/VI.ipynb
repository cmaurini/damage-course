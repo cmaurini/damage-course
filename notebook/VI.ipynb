{
 "cells": [
  {
   "cell_type": "markdown",
   "metadata": {},
   "source": [
    " Copyright (C) 2012-2017 Corrado Maurini.\n",
    " Licensed under the GNU LGPL Version 3.\n",
    "\n",
    " Last changed: 12/10/2017\n",
    "\n",
    " This example solve the bound constrained minimization problem\n",
    " in the domain $(x,y)$ in $\\Omega \\equiv (0,L_x)\\times(0,L_y)$\n",
    "\n",
    " $\\mathrm{min}\\, F(u),\\qquad$ with  $\\;0\\leq u\\leq 1,\\;u(0,y)= 0,\\;u(L_x,y) = 1$\n",
    "\n",
    " where $F(u)$ is the functional defined by the form\n",
    "\n",
    " $$F(u) =\\int_\\Omega \\left(\\frac{w(u)}{\\ell}+\\ell\\, \\nabla u\\cdot  \\nabla u\\right)\\mathrm{d}x$$"
   ]
  },
  {
   "cell_type": "code",
   "execution_count": 1,
   "metadata": {},
   "outputs": [],
   "source": [
    "from fenics import *\n",
    "import sympy\n",
    "import numpy as np\n",
    "import matplotlib.pyplot as plt\n",
    "parameters.plotting_backend = \"matplotlib\"\n",
    "%matplotlib inline"
   ]
  },
  {
   "cell_type": "code",
   "execution_count": 2,
   "metadata": {},
   "outputs": [
    {
     "data": {
      "text/plain": [
       "[<matplotlib.lines.Line2D at 0x10f7e3ef0>,\n",
       " <matplotlib.lines.Line2D at 0x10fa25780>]"
      ]
     },
     "execution_count": 2,
     "metadata": {},
     "output_type": "execute_result"
    },
    {
     "data": {
      "image/png": "[encoded data removed]",
      "text/plain": [
       "<matplotlib.figure.Figure at 0x10f9c1ef0>"
      ]
     },
     "metadata": {},
     "output_type": "display_data"
    }
   ],
   "source": [
    "# Create mesh and define function space\n",
    "Lx = 1; Ly = .1\n",
    "Lx = 1.; Ly = .1\n",
    "mesh = RectangleMesh(mpi_comm_world(), Point(0., 0.), Point(Lx, Ly), 200, 20)\n",
    "# Define Dirichlet boundaries\n",
    "def left(x,on_boundary):\n",
    "    return on_boundary and x[0]==0.\n",
    "\n",
    "def rigth(x,on_boundary):\n",
    "    return on_boundary and x[0]==1.\n",
    "plot(mesh)"
   ]
  },
  {
   "cell_type": "code",
   "execution_count": 3,
   "metadata": {},
   "outputs": [],
   "source": [
    "V = FunctionSpace(mesh, \"Lagrange\", 1)\n",
    "# Define variational problem\n",
    "alpha = Function(V)\n",
    "dalpha = TrialFunction(V)\n",
    "beta = TestFunction(V)\n",
    "ell = Constant(0.25) \n",
    "# The energy\n",
    "def w(alpha):\n",
    "    return alpha\n",
    "F = (ell*inner(grad(alpha), grad(alpha)) + w(alpha)/ell)*dx\n",
    "# First directional derivative in alpha along the direction beta\n",
    "dF = derivative(F,alpha,beta)\n",
    "ddF = derivative(dF,alpha,dalpha)"
   ]
  },
  {
   "cell_type": "code",
   "execution_count": 4,
   "metadata": {},
   "outputs": [],
   "source": [
    "# Define boundary conditions\n",
    "bc_l = DirichletBC(V,  Constant(0.0), left)\n",
    "bc_r = DirichletBC(V, Constant(1.0), rigth)\n",
    "bc=[bc_l,bc_r]\n",
    "\n",
    "# Define the upper and lower bounds\n",
    "ub = interpolate(Constant(1.), V)\n",
    "lb = interpolate(Constant(0.), V)"
   ]
  },
  {
   "cell_type": "code",
   "execution_count": 5,
   "metadata": {},
   "outputs": [
    {
     "data": {
      "text/plain": [
       "<matplotlib.tri.tricontour.TriContourSet at 0x10fc93518>"
      ]
     },
     "execution_count": 5,
     "metadata": {},
     "output_type": "execute_result"
    },
    {
     "data": {
      "image/png": "[encoded data removed]",
      "text/plain": [
       "<matplotlib.figure.Figure at 0x10fead9e8>"
      ]
     },
     "metadata": {},
     "output_type": "display_data"
    }
   ],
   "source": [
    "problem_nl = NonlinearVariationalProblem(dF, alpha, bc, J = ddF)\n",
    "problem_nl.set_bounds(lb, ub)\n",
    "# set up the solver\n",
    "solver_nl = NonlinearVariationalSolver(problem_nl)\n",
    "snes_solver_parameters_bounds = {\"nonlinear_solver\": \"snes\",\n",
    "                          \"snes_solver\": {\"linear_solver\": \"umfpack\",\n",
    "                                          \"maximum_iterations\": 100,\n",
    "                                          \"report\": True,\n",
    "                                          \"line_search\": \"basic\",\n",
    "                                          \"method\":\"vinewtonrsls\",\n",
    "                                          \"absolute_tolerance\":1e-6,\n",
    "                                          \"relative_tolerance\":1e-6,\n",
    "                                          \"solution_tolerance\":1e-6}}\n",
    "solver_nl.parameters.update(snes_solver_parameters_bounds)\n",
    "info(solver_nl.parameters,True)\n",
    "# solve the problem\n",
    "solver_nl.solve()\n",
    "plot(alpha)"
   ]
  },
  {
   "cell_type": "code",
   "execution_count": 6,
   "metadata": {},
   "outputs": [
    {
     "data": {
      "text/plain": [
       "Text(0,0.5,'$\\\\alpha$')"
      ]
     },
     "execution_count": 6,
     "metadata": {},
     "output_type": "execute_result"
    },
    {
     "data": {
      "image/png": "[encoded data removed]",
      "text/plain": [
       "<matplotlib.figure.Figure at 0x10fc60390>"
      ]
     },
     "metadata": {},
     "output_type": "display_data"
    }
   ],
   "source": [
    "xs  = np.linspace(0,1,101)\n",
    "alphas = [alpha(xx,Ly/2) for xx in xs]\n",
    "fig = plt.figure()\n",
    "ax = fig.gca()\n",
    "ax.set_xticks(np.arange(0, 1.1, 0.1))\n",
    "ax.set_yticks(np.arange(0, 1.1, 0.1))\n",
    "plt.plot(xs,alphas, label = \"alpha\")\n",
    "plt.grid()\n",
    "plt.xlabel(r\"$x$\"); plt.ylabel(r\"$\\alpha$\")"
   ]
  },
  {
   "cell_type": "code",
   "execution_count": 7,
   "metadata": {},
   "outputs": [
    {
     "name": "stdout",
     "output_type": "stream",
     "text": [
      "Energy of the solution (Numerical / Analytical): 0.1333 / 0.1333\n"
     ]
    }
   ],
   "source": [
    "# Analytical solution for the dissipated energy\n",
    "z = sympy.Symbol(\"z\")\n",
    "cw = sympy.integrate(2*sympy.sqrt(w(z)),(z,0,1))\n",
    "# Check the solution with the analytical result\n",
    "print(\"Energy of the solution (Numerical / Analytical): %.4g / %.4g\" % (assemble(F),float(cw)*Ly))\n",
    "# plot the solution\n",
    "File(\"results/uTAO.pvd\") << alpha"
   ]
  },
  {
   "cell_type": "code",
   "execution_count": 8,
   "metadata": {},
   "outputs": [
    {
     "data": {
      "text/plain": [
       "4/3"
      ]
     },
     "execution_count": 8,
     "metadata": {},
     "output_type": "execute_result"
    }
   ],
   "source": [
    "cw"
   ]
  }
 ],
 "metadata": {
  "kernelspec": {
   "display_name": "Python 3",
   "language": "python",
   "name": "python3"
  },
  "language_info": {
   "codemirror_mode": {
    "name": "ipython",
    "version": 3
   },
   "file_extension": ".py",
   "mimetype": "text/x-python",
   "name": "python",
   "nbconvert_exporter": "python",
   "pygments_lexer": "ipython3",
   "version": "3.6.3"
  }
 },
 "nbformat": 4,
 "nbformat_minor": 2
}
