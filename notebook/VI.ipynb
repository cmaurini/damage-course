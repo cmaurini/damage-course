{
 "cells": [
  {
   "cell_type": "code",
   "execution_count": 1,
   "metadata": {
    "colab": {
     "base_uri": "https://localhost:8080/",
     "height": 15524
    },
    "colab_type": "code",
    "executionInfo": {
     "elapsed": 149388,
     "status": "ok",
     "timestamp": 1542102666856,
     "user": {
      "displayName": "Corrado Maurini",
      "photoUrl": "https://lh5.googleusercontent.com/-jydHMLpXCzM/AAAAAAAAAAI/AAAAAAAAMc4/loKWFO5F1BI/s64/photo.jpg",
      "userId": "14179705889588379324"
     },
     "user_tz": -60
    },
    "id": "L1uzscqkNxT3",
    "outputId": "f7940f3d-9c92-458e-e773-ec5af5292277"
   },
   "outputs": [
    {
     "name": "stdout",
     "output_type": "stream",
     "text": [
      "2018.2.0.dev0\n"
     ]
    }
   ],
   "source": [
    "#@title\n",
    "# Setup system environment and define utility functions and variables\n",
    "try : \n",
    "    from google.colab import files\n",
    "except:\n",
    "    pass\n",
    "try:\n",
    "    from dolfin import *; \n",
    "    import mshr\n",
    "except ImportError as e:\n",
    "    !apt-get install -y -qq software-properties-common python-software-properties module-init-tools\n",
    "    !add-apt-repository -y ppa:fenics-packages/fenics\n",
    "    !apt-get update -qq\n",
    "    !sed -e 's:artful:bionic:' /etc/apt/sources.list.d/fenics-packages-ubuntu-fenics-artful.list > temp\n",
    "    !mv temp /etc/apt/sources.list.d/fenics-packages-ubuntu-fenics-artful.list\n",
    "    !sed -e 's:artful:bionic:' /etc/apt/sources.list > temp\n",
    "    !mv temp /etc/apt/sources.list\n",
    "    !apt-get update -qq\n",
    "    !apt install -y --no-install-recommends fenics    \n",
    "    from dolfin import *; from mshr import *\n",
    "    \n",
    "import matplotlib.pyplot as plt;\n",
    "import numpy as np;\n",
    "from IPython.display import clear_output, display, update_display; import time; import dolfin.common.plotting as fenicsplot \n",
    "import time\n",
    "%matplotlib inline\n",
    "plt.rcParams['image.cmap'] = 'viridis'\n",
    "!dolfin-version"
   ]
  },
  {
   "cell_type": "markdown",
   "metadata": {
    "colab_type": "text",
    "id": "PaZCTdOUNxUB"
   },
   "source": [
    " Copyright (C) 2012-2017 Corrado Maurini.\n",
    " Licensed under the GNU LGPL Version 3.\n",
    "\n",
    " Last changed: 12/10/2017\n",
    "\n",
    "# Solution of a bound constrained minimization problem using PETSc Variational Inequality (VI) solvers\n",
    "\n",
    "This example solve the bound constrained minimization problem\n",
    " in the domain $(x,y)$ in $\\Omega \\equiv (0,L_x)\\times(0,L_y)$\n",
    "\n",
    " $\\mathrm{min}\\, F(u),\\qquad$ with  $\\;0\\leq u\\leq 1,\\;u(0,y)= 0,\\;u(L_x,y) = 1$\n",
    "\n",
    " where $F(u)$ is the functional defined by the form\n",
    "\n",
    " $$F(u) =\\int_\\Omega \\left(\\frac{w(u)}{\\ell}+\\ell\\, \\nabla u\\cdot  \\nabla u\\right)\\mathrm{d}x$$"
   ]
  },
  {
   "cell_type": "code",
   "execution_count": 2,
   "metadata": {
    "colab": {},
    "colab_type": "code",
    "id": "w0OCV52qNxUE"
   },
   "outputs": [],
   "source": [
    "from fenics import *\n",
    "import sympy\n",
    "import numpy as np\n",
    "import matplotlib.pyplot as plt\n",
    "%matplotlib inline"
   ]
  },
  {
   "cell_type": "code",
   "execution_count": 3,
   "metadata": {
    "colab": {
     "base_uri": "https://localhost:8080/",
     "height": 118
    },
    "colab_type": "code",
    "executionInfo": {
     "elapsed": 668,
     "status": "ok",
     "timestamp": 1542102674240,
     "user": {
      "displayName": "Corrado Maurini",
      "photoUrl": "https://lh5.googleusercontent.com/-jydHMLpXCzM/AAAAAAAAAAI/AAAAAAAAMc4/loKWFO5F1BI/s64/photo.jpg",
      "userId": "14179705889588379324"
     },
     "user_tz": -60
    },
    "id": "5PhDHrnFNxUI",
    "outputId": "555383f9-9b24-484b-ae3c-7e8eecda2299"
   },
   "outputs": [
    {
     "data": {
      "text/plain": [
       "[<matplotlib.lines.Line2D at 0x11d6fae48>,\n",
       " <matplotlib.lines.Line2D at 0x11d6faf98>]"
      ]
     },
     "execution_count": 3,
     "metadata": {},
     "output_type": "execute_result"
    },
    {
     "data": {
      "image/png": "[encoded data removed]",
      "text/plain": [
       "<Figure size 432x288 with 1 Axes>"
      ]
     },
     "metadata": {
      "needs_background": "light"
     },
     "output_type": "display_data"
    }
   ],
   "source": [
    "# Create mesh and define function space\n",
    "Lx = 1; Ly = .1\n",
    "Lx = 1.; Ly = .1\n",
    "comm = MPI.comm_world\n",
    "mesh = RectangleMesh(Point(0., 0.), Point(Lx, Ly), 200, 20)\n",
    "# Define Dirichlet boundaries\n",
    "def left(x,on_boundary):\n",
    "    return on_boundary and x[0]==0.\n",
    "\n",
    "def rigth(x,on_boundary):\n",
    "    return on_boundary and x[0]==1.\n",
    "plot(mesh)"
   ]
  },
  {
   "cell_type": "code",
   "execution_count": 4,
   "metadata": {
    "colab": {
     "base_uri": "https://localhost:8080/",
     "height": 34
    },
    "colab_type": "code",
    "executionInfo": {
     "elapsed": 2794,
     "status": "ok",
     "timestamp": 1542102677995,
     "user": {
      "displayName": "Corrado Maurini",
      "photoUrl": "https://lh5.googleusercontent.com/-jydHMLpXCzM/AAAAAAAAAAI/AAAAAAAAMc4/loKWFO5F1BI/s64/photo.jpg",
      "userId": "14179705889588379324"
     },
     "user_tz": -60
    },
    "id": "2i8WUabJNxUN",
    "outputId": "eb77a91d-6825-4f4a-a78b-4bcb2f57c358"
   },
   "outputs": [],
   "source": [
    "V = FunctionSpace(mesh, \"Lagrange\", 1)\n",
    "# Define variational problem\n",
    "alpha = Function(V)\n",
    "dalpha = TrialFunction(V)\n",
    "beta = TestFunction(V)\n",
    "ell = Constant(0.25) \n",
    "# The energy\n",
    "def w(alpha):\n",
    "    return alpha\n",
    "F = (ell*inner(grad(alpha), grad(alpha)) + w(alpha)/ell)*dx\n",
    "# First directional derivative in alpha along the direction beta\n",
    "dF = derivative(F,alpha,beta)\n",
    "ddF = derivative(dF,alpha,dalpha)"
   ]
  },
  {
   "cell_type": "code",
   "execution_count": 5,
   "metadata": {
    "colab": {},
    "colab_type": "code",
    "id": "aVWcvloyNxUQ"
   },
   "outputs": [],
   "source": [
    "# Define boundary conditions\n",
    "bc_l = DirichletBC(V,  Constant(0.0), left)\n",
    "bc_r = DirichletBC(V, Constant(1.0), rigth)\n",
    "bc=[bc_l,bc_r]\n",
    "\n",
    "# Define the upper and lower bounds\n",
    "ub = interpolate(Constant(1.), V)\n",
    "lb = interpolate(Constant(0.), V)"
   ]
  },
  {
   "cell_type": "code",
   "execution_count": 6,
   "metadata": {
    "colab": {
     "base_uri": "https://localhost:8080/",
     "height": 204
    },
    "colab_type": "code",
    "executionInfo": {
     "elapsed": 6996,
     "status": "ok",
     "timestamp": 1542102685636,
     "user": {
      "displayName": "Corrado Maurini",
      "photoUrl": "https://lh5.googleusercontent.com/-jydHMLpXCzM/AAAAAAAAAAI/AAAAAAAAMc4/loKWFO5F1BI/s64/photo.jpg",
      "userId": "14179705889588379324"
     },
     "user_tz": -60
    },
    "id": "DSg_ZEPdNxUS",
    "outputId": "6bf85940-abf2-47b6-fff2-ab45289eedeb"
   },
   "outputs": [
    {
     "data": {
      "text/plain": [
       "<matplotlib.tri.tricontour.TriContourSet at 0x11d991a90>"
      ]
     },
     "execution_count": 6,
     "metadata": {},
     "output_type": "execute_result"
    },
    {
     "data": {
      "image/png": "[encoded data removed]",
      "text/plain": [
       "<Figure size 432x288 with 1 Axes>"
      ]
     },
     "metadata": {
      "needs_background": "light"
     },
     "output_type": "display_data"
    }
   ],
   "source": [
    "problem_nl = NonlinearVariationalProblem(dF, alpha, bc, J = ddF)\n",
    "problem_nl.set_bounds(lb, ub)\n",
    "# set up the solver\n",
    "solver_nl = NonlinearVariationalSolver(problem_nl)\n",
    "snes_solver_parameters_bounds = {\"nonlinear_solver\": \"snes\",\n",
    "                          \"snes_solver\": {\"linear_solver\": \"cg\",\n",
    "                                          \"maximum_iterations\": 100,\n",
    "                                          \"report\": True,\n",
    "                                          \"line_search\": \"basic\",\n",
    "                                          \"method\":\"vinewtonrsls\",\n",
    "                                          \"absolute_tolerance\":1e-6,\n",
    "                                          \"relative_tolerance\":1e-6,\n",
    "                                          \"solution_tolerance\":1e-6}}\n",
    "solver_nl.parameters.update(snes_solver_parameters_bounds)\n",
    "info(solver_nl.parameters,True)\n",
    "# solve the problem\n",
    "solver_nl.solve()\n",
    "plot(alpha)"
   ]
  },
  {
   "cell_type": "code",
   "execution_count": 7,
   "metadata": {
    "colab": {
     "base_uri": "https://localhost:8080/",
     "height": 296
    },
    "colab_type": "code",
    "executionInfo": {
     "elapsed": 1096,
     "status": "ok",
     "timestamp": 1542102687349,
     "user": {
      "displayName": "Corrado Maurini",
      "photoUrl": "https://lh5.googleusercontent.com/-jydHMLpXCzM/AAAAAAAAAAI/AAAAAAAAMc4/loKWFO5F1BI/s64/photo.jpg",
      "userId": "14179705889588379324"
     },
     "user_tz": -60
    },
    "id": "p842viY5NxUV",
    "outputId": "e31f9265-7841-4cad-804d-2e657fe3ad17"
   },
   "outputs": [
    {
     "data": {
      "text/plain": [
       "Text(0, 0.5, '$\\\\alpha$')"
      ]
     },
     "execution_count": 7,
     "metadata": {},
     "output_type": "execute_result"
    },
    {
     "data": {
      "image/png": "[encoded data removed]",
      "text/plain": [
       "<Figure size 432x288 with 1 Axes>"
      ]
     },
     "metadata": {
      "needs_background": "light"
     },
     "output_type": "display_data"
    }
   ],
   "source": [
    "# PETScOptions.set(\"help\",True)\n",
    "xs  = np.linspace(0,1,101)\n",
    "alphas = [alpha(xx,Ly/2) for xx in xs]\n",
    "fig = plt.figure()\n",
    "ax = fig.gca()\n",
    "ax.set_xticks(np.arange(0, 1.1, 0.1))\n",
    "ax.set_yticks(np.arange(0, 1.1, 0.1))\n",
    "plt.plot(xs,alphas, label = \"alpha\")\n",
    "plt.grid()\n",
    "plt.xlabel(r\"$x$\"); plt.ylabel(r\"$\\alpha$\")"
   ]
  },
  {
   "cell_type": "code",
   "execution_count": 8,
   "metadata": {
    "colab": {
     "base_uri": "https://localhost:8080/",
     "height": 51
    },
    "colab_type": "code",
    "executionInfo": {
     "elapsed": 1494,
     "status": "ok",
     "timestamp": 1542102688864,
     "user": {
      "displayName": "Corrado Maurini",
      "photoUrl": "https://lh5.googleusercontent.com/-jydHMLpXCzM/AAAAAAAAAAI/AAAAAAAAMc4/loKWFO5F1BI/s64/photo.jpg",
      "userId": "14179705889588379324"
     },
     "user_tz": -60
    },
    "id": "qg1YnY3vNxUX",
    "outputId": "57590508-6c66-4798-b767-b583304edbfc"
   },
   "outputs": [
    {
     "name": "stdout",
     "output_type": "stream",
     "text": [
      "Energy of the solution (Numerical / Analytical): 0.1333 / 0.1333\n"
     ]
    }
   ],
   "source": [
    "# Analytical solution for the dissipated energy\n",
    "z = sympy.Symbol(\"z\")\n",
    "cw = sympy.integrate(2*sympy.sqrt(w(z)),(z,0,1))\n",
    "# Check the solution with the analytical result\n",
    "print(\"Energy of the solution (Numerical / Analytical): %.4g / %.4g\" % (assemble(F),float(cw)*Ly))\n",
    "# plot the solution\n",
    "File(\"results/uTAO.pvd\") << alpha"
   ]
  },
  {
   "cell_type": "code",
   "execution_count": 9,
   "metadata": {
    "colab": {
     "base_uri": "https://localhost:8080/",
     "height": 34
    },
    "colab_type": "code",
    "executionInfo": {
     "elapsed": 626,
     "status": "ok",
     "timestamp": 1542102689509,
     "user": {
      "displayName": "Corrado Maurini",
      "photoUrl": "https://lh5.googleusercontent.com/-jydHMLpXCzM/AAAAAAAAAAI/AAAAAAAAMc4/loKWFO5F1BI/s64/photo.jpg",
      "userId": "14179705889588379324"
     },
     "user_tz": -60
    },
    "id": "Y_xSwEawNxUa",
    "outputId": "cf25086b-04fc-43f0-c625-2e53e04c53c8"
   },
   "outputs": [
    {
     "data": {
      "text/plain": [
       "4/3"
      ]
     },
     "execution_count": 9,
     "metadata": {},
     "output_type": "execute_result"
    }
   ],
   "source": [
    "cw"
   ]
  },
  {
   "cell_type": "code",
   "execution_count": null,
   "metadata": {
    "colab": {},
    "colab_type": "code",
    "id": "HsdqdKySNxUc"
   },
   "outputs": [],
   "source": []
  },
  {
   "cell_type": "code",
   "execution_count": null,
   "metadata": {
    "colab": {},
    "colab_type": "code",
    "id": "lVZBCSZpNxUd"
   },
   "outputs": [],
   "source": []
  }
 ],
 "metadata": {
  "colab": {
   "collapsed_sections": [],
   "name": "VI.ipynb",
   "provenance": [],
   "version": "0.3.2"
  },
  "kernelspec": {
   "display_name": "Python 3",
   "language": "python",
   "name": "python3"
  },
  "language_info": {
   "codemirror_mode": {
    "name": "ipython",
    "version": 3
   },
   "file_extension": ".py",
   "mimetype": "text/x-python",
   "name": "python",
   "nbconvert_exporter": "python",
   "pygments_lexer": "ipython3",
   "version": "3.7.0"
  }
 },
 "nbformat": 4,
 "nbformat_minor": 2
}
