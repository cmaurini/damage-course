{
 "cells": [
  {
   "cell_type": "markdown",
   "metadata": {},
   "source": [
    "# Preamble\n",
    "\n",
    "You can safely skip reading this section at first reading. Here we:\n",
    " - import the required python modules \n",
    " - set few parameters for the solvers to use later\n",
    " - define output directory and files"
   ]
  },
  {
   "cell_type": "code",
   "execution_count": null,
   "metadata": {},
   "outputs": [],
   "source": [
    "# Setup system environment and define utility functions and variables\n",
    "try : \n",
    "    from google.colab import files\n",
    "except:\n",
    "    pass\n",
    "try:\n",
    "    from dolfin import *;  from mshr import *\n",
    "except ImportError as e:\n",
    "    !apt-get install -y -qq software-properties-common python-software-properties module-init-tools\n",
    "    !add-apt-repository -y ppa:fenics-packages/fenics\n",
    "    !apt-get update -qq\n",
    "    !sed -e 's:artful:bionic:' /etc/apt/sources.list.d/fenics-packages-ubuntu-fenics-artful.list > temp\n",
    "    !mv temp /etc/apt/sources.list.d/fenics-packages-ubuntu-fenics-artful.list\n",
    "    !sed -e 's:artful:bionic:' /etc/apt/sources.list > temp\n",
    "    !mv temp /etc/apt/sources.list\n",
    "    !apt-get update -qq\n",
    "    !apt install -y --no-install-recommends fenics    \n",
    "    from dolfin import *; from mshr import *    \n",
    "!dolfin-version\n",
    "import matplotlib.pyplot as plt\n",
    "import numpy as np\n",
    "import sys, os, sympy, shutil, math\n",
    "%matplotlib inline\n",
    "parameters[\"form_compiler\"][\"cpp_optimize\"] = True\n",
    "parameters[\"form_compiler\"][\"optimize\"] = True\n",
    "parameters[\"form_compiler\"][\"quadrature_degree\"] = 2\n",
    "parameters[\"form_compiler\"][\"representation\"]=\"uflacs\"\n",
    "parameters[\"use_petsc_signal_handler\"] = True\n",
    "info(parameters,True)"
   ]
  },
  {
   "cell_type": "markdown",
   "metadata": {},
   "source": [
    "# Mesh \n",
    "\n",
    "We define here the mesh and the indicators for the boundary conditions"
   ]
  },
  {
   "cell_type": "code",
   "execution_count": null,
   "metadata": {},
   "outputs": [],
   "source": [
    "R = 0.2\n",
    "H = 1.\n",
    "L = 1.\n",
    "rect = Rectangle(Point(-L/2,-H/2),Point(L/2,H/2))\n",
    "circ = Circle(Point(0.001,0),R)\n",
    "mesh = generate_mesh(rect-circ,60)\n",
    "plot(mesh)\n",
    "top = CompiledSubDomain(\"near(x[1], %f/2., 1.e-4)\"%H)\n",
    "hole = CompiledSubDomain(\"near(pow(x[0],2)+pow(x[1],2), pow(%f,2), 1.e-3)\"%R )\n",
    "boundaries = MeshFunction(\"size_t\", mesh,1)\n",
    "boundaries.set_all(0)\n",
    "top.mark(boundaries, 1) \n",
    "hole.mark(boundaries, 2) \n",
    "ds = Measure(\"ds\",subdomain_data=boundaries) \n",
    "\n",
    "ndim = mesh.topology().dim() # get number of space dimensions\n",
    "zero_v = Constant((0.,)*ndim) # a ndim-dimensional zero vector\n",
    "mesh.hmax()"
   ]
  },
  {
   "cell_type": "markdown",
   "metadata": {},
   "source": [
    "# Constitutive functions\n",
    "\n",
    "We define here the constitutive functions and the related parameters. \n",
    "These functions will be used to define the energy"
   ]
  },
  {
   "cell_type": "code",
   "execution_count": null,
   "metadata": {},
   "outputs": [],
   "source": [
    "E, nu = Constant(100.0), Constant(0.3)\n",
    "Gc = Constant(1.0)\n",
    "ell = Constant(0.05)\n",
    "\n",
    "def w(alpha):\n",
    "    \"\"\"Dissipated energy function as a function of the damage \"\"\"\n",
    "    return alpha\n",
    "\n",
    "def a(alpha):\n",
    "    \"\"\"Stiffness modulation as a function of the damage \"\"\"\n",
    "    k_ell = Constant(1.e-6) # residual stiffness\n",
    "    return (1-alpha)**2+k_ell\n",
    "\n",
    "def eps(u):\n",
    "    \"\"\"Strain tensor as a function of the displacement\"\"\"\n",
    "    return sym(grad(u))\n",
    "\n",
    "def sigma_0(u):\n",
    "    \"\"\"Stress tensor of the undamaged material as a function of the displacement\"\"\"\n",
    "    mu    = E/(2.0*(1.0 + nu))\n",
    "    lmbda = E*nu/(1.0 - nu**2)\n",
    "    return 2.0*mu*(eps(u)) + lmbda*tr(eps(u))*Identity(ndim)\n",
    "\n",
    "def sigma(u,alpha):\n",
    "    \"\"\"Stress tensor of the damaged material as a function of the displacement and the damage\"\"\"\n",
    "    return (a(alpha))*sigma_0(u)\n",
    "\n",
    "z = sympy.Symbol(\"z\")\n",
    "c_w = 4*sympy.integrate(sympy.sqrt(w(z)),(z,0,1))\n",
    "print(\"c_w = \",c_w)\n",
    "c_1w = sympy.integrate(sympy.sqrt(1/w(z)),(z,0,1))\n",
    "print(\"c_1/w = \",c_1w)\n",
    "tmp = 2*(sympy.diff(w(z),z)/sympy.diff(1/a(z),z)).subs({\"z\":0})\n",
    "sigma_c = sympy.sqrt(tmp*Gc*E/(c_w*ell))\n",
    "print(\"sigma_c = %2.3f\"%sigma_c)\n",
    "eps_c = float(sigma_c/E)\n",
    "print(\"eps_c = %2.3f\"%eps_c)"
   ]
  },
  {
   "cell_type": "markdown",
   "metadata": {},
   "source": [
    "## Energy functional and its derivatives"
   ]
  },
  {
   "cell_type": "code",
   "execution_count": null,
   "metadata": {},
   "outputs": [],
   "source": [
    "# Create function space for 2D elasticity + Damage\n",
    "V_u = VectorFunctionSpace(mesh, \"P\", 1)\n",
    "V_alpha = FunctionSpace(mesh, \"P\", 1)\n",
    "\n",
    "# Define the function, test and trial fields\n",
    "u, du, v = Function(V_u), TrialFunction(V_u), TestFunction(V_u)\n",
    "alpha, dalpha, beta = Function(V_alpha), TrialFunction(V_alpha), TestFunction(V_alpha)\n",
    "\n",
    "elastic_energy = 0.5*inner(sigma(u,alpha), eps(u))*dx\n",
    "dissipated_energy = Gc/float(c_w)*(w(alpha)/ell+ ell*dot(grad(alpha), grad(alpha)))*dx\n",
    "total_energy = elastic_energy + dissipated_energy \n",
    "\n",
    "# Weak form of elasticity problem\n",
    "E_u = derivative(total_energy,u,v)\n",
    "E_alpha = derivative(total_energy,alpha,beta)\n",
    "E_alpha_alpha = derivative(E_alpha,alpha,dalpha)"
   ]
  },
  {
   "cell_type": "markdown",
   "metadata": {},
   "source": [
    "Boundary conditions"
   ]
  },
  {
   "cell_type": "code",
   "execution_count": null,
   "metadata": {},
   "outputs": [],
   "source": [
    "# Dirichlet boundary condition for a traction test boundary\n",
    "uT = Expression(\"t\",t = 0.,degree=0)\n",
    "bcu_0 = DirichletBC(V_u.sub(1), uT, boundaries, 1)\n",
    "bcu_1 = DirichletBC(V_u, (0.0,0.0), boundaries, 2)\n",
    "bc_u = [bcu_0, bcu_1]\n",
    "bcalpha_0 = DirichletBC(V_alpha, 0.0, boundaries, 1)\n",
    "bcalpha_1 = DirichletBC(V_alpha, 0.0, boundaries, 2)\n",
    "bc_alpha = [bcalpha_0, bcalpha_1]"
   ]
  },
  {
   "cell_type": "markdown",
   "metadata": {},
   "source": [
    "## Solvers"
   ]
  },
  {
   "cell_type": "markdown",
   "metadata": {},
   "source": [
    "### Displacement problem"
   ]
  },
  {
   "cell_type": "code",
   "execution_count": null,
   "metadata": {},
   "outputs": [],
   "source": [
    "import ufl\n",
    "E_du = ufl.replace(E_u,{u:du})\n",
    "problem_u = LinearVariationalProblem(lhs(E_du), rhs(E_du), u, bc_u)\n",
    "solver_u = LinearVariationalSolver(problem_u)\n",
    "solver_u.parameters.update({\"linear_solver\" : \"mumps\"})"
   ]
  },
  {
   "cell_type": "markdown",
   "metadata": {},
   "source": [
    "### Damage problem with bound constraints"
   ]
  },
  {
   "cell_type": "code",
   "execution_count": null,
   "metadata": {},
   "outputs": [],
   "source": [
    "class DamageProblem(OptimisationProblem):\n",
    "\n",
    "    def f(self, x):\n",
    "        \"\"\"Function to be minimised\"\"\"\n",
    "        alpha.vector()[:] = x\n",
    "        return assemble(total_energy)\n",
    "\n",
    "    def F(self, b, x):\n",
    "        \"\"\"Gradient (first derivative)\"\"\"\n",
    "        alpha.vector()[:] = x\n",
    "        assemble(E_alpha, b)\n",
    "\n",
    "    def J(self, A, x):\n",
    "        \"\"\"Hessian (second derivative)\"\"\"\n",
    "        alpha.vector()[:] = x\n",
    "        assemble(E_alpha_alpha, A)\n",
    "        \n",
    "#PETScOptions.set(\"help\")\n",
    "solver_alpha_tao = PETScTAOSolver()\n",
    "#solver_alpha_tao.parameters.update({\"monitor_convergence\": True})\n",
    "PETScOptions.set(\"tao_type\",\"tron\")\n",
    "#PETScOptions.set(\"pc_type\",\"ilu\")\n",
    "#PETScOptions.set(\"ksp_type\",\"nash\")\n",
    "PETScOptions.set(\"tao_monitor\")\n",
    "lb = interpolate(Constant(\"0.\"), V_alpha) # lower bound, initialize to 0\n",
    "ub = interpolate(Constant(\"1.\"), V_alpha) # upper bound, set to 1\n",
    "for bc in bc_alpha:\n",
    "    bc.apply(lb.vector())\n",
    "    bc.apply(ub.vector())"
   ]
  },
  {
   "cell_type": "markdown",
   "metadata": {},
   "source": [
    "### Alternate minimization"
   ]
  },
  {
   "cell_type": "code",
   "execution_count": null,
   "metadata": {},
   "outputs": [],
   "source": [
    "def alternate_minimization(u,alpha,tol=1.e-5,maxiter=100,alpha_0=interpolate(Constant(\"0.0\"), V_alpha)):\n",
    "    # initialization\n",
    "    iter = 1; err_alpha = 1\n",
    "    alpha_error = Function(V_alpha)\n",
    "    # iteration loop\n",
    "    while err_alpha>tol and iter<maxiter:\n",
    "        # solve elastic problem\n",
    "        solver_u.solve()\n",
    "        # solve damage problem\n",
    "        #solver_alpha.solve()\n",
    "        solver_alpha_tao.solve(DamageProblem(), alpha.vector(), lb.vector(), ub.vector())# test error\n",
    "        alpha_error.vector()[:] = alpha.vector() - alpha_0.vector()\n",
    "        err_alpha = norm(alpha_error.vector(), \"linf\")\n",
    "        # monitor the results\n",
    "        if MPI.comm_world.rank == 0:\n",
    "            print(\"Iteration:  %2d, Error: %2.8g, alpha_max: %.8g\" %(iter, err_alpha, alpha.vector().max()))\n",
    "        # update iteration\n",
    "        alpha_0.assign(alpha)\n",
    "        iter=iter+1\n",
    "    return (err_alpha, iter)"
   ]
  },
  {
   "cell_type": "markdown",
   "metadata": {},
   "source": [
    "## Time-step post-processing"
   ]
  },
  {
   "cell_type": "code",
   "execution_count": null,
   "metadata": {},
   "outputs": [],
   "source": [
    "savedir = \"results-inclusion/\"\n",
    "if os.path.isdir(savedir):\n",
    "    shutil.rmtree(savedir)    \n",
    "file_alpha = File(savedir+\"/alpha.pvd\") \n",
    "file_u = File(savedir+\"/u.pvd\") \n",
    "\n",
    "def postprocessing():\n",
    "    plt.figure(i_t)\n",
    "    plt.colorbar(plot(alpha, range_min=0., range_max=1., title = \"Damage at loading %.4f\"%(t*load0)))\n",
    "    # Save number of iterations for the time step\n",
    "    iterations[i_t] = np.array([t,i_t])\n",
    "    # Calculate the energies\n",
    "    elastic_energy_value = assemble(elastic_energy)\n",
    "    surface_energy_value = assemble(dissipated_energy)\n",
    "    if MPI.comm_world.rank == 0:\n",
    "        print(\"\\nEnd of timestep %d with load multiplier %g\"%(i_t, t))\n",
    "        print(\"\\nElastic and surface energies: (%g,%g)\"%(elastic_energy_value,surface_energy_value))\n",
    "        print(\"-----------------------------------------\")\n",
    "    energies[i_t] = np.array([t,elastic_energy_value,surface_energy_value,elastic_energy_value+surface_energy_value])\n",
    "    # Calculate the axial force resultant\n",
    "    forces[i_t] = np.array([t,assemble(sigma(u,alpha)[1,1]*ds(0))])\n",
    "    # Dump solution to file\n",
    "    file_alpha << (alpha,t)\n",
    "    file_u << (u,t)\n",
    "    # Save some global quantities as a function of the time\n",
    "    np.savetxt(savedir+'/energies.txt', energies)\n",
    "    np.savetxt(savedir+'/forces.txt', forces)\n",
    "    np.savetxt(savedir+'/iterations.txt', iterations)"
   ]
  },
  {
   "cell_type": "markdown",
   "metadata": {},
   "source": [
    "## Solving at each time instant and looping in time"
   ]
  },
  {
   "cell_type": "code",
   "execution_count": null,
   "metadata": {},
   "outputs": [],
   "source": [
    "load0 = 1. # reference value for the loading (imposed displacement)\n",
    "load_multipliers = load0*np.linspace(0,0.2,50)\n",
    "#  loading and initialization of vectors to store time datas\n",
    "energies = np.zeros((len(load_multipliers),4))\n",
    "iterations = np.zeros((len(load_multipliers),2))\n",
    "forces = np.zeros((len(load_multipliers),2))\n",
    "\n",
    "lb.interpolate(Constant(0.))\n",
    "for (i_t, t) in enumerate(load_multipliers):\n",
    "    uT.t = t*load0\n",
    "    # solve alternate minimization\n",
    "    alternate_minimization(u,alpha,maxiter=30)\n",
    "    # updating the lower bound to account for the irreversibility\n",
    "    lb.vector()[:] = alpha.vector()\n",
    "    postprocessing()"
   ]
  },
  {
   "cell_type": "code",
   "execution_count": null,
   "metadata": {},
   "outputs": [],
   "source": [
    "plot(u,mode='displacement')"
   ]
  },
  {
   "cell_type": "code",
   "execution_count": null,
   "metadata": {},
   "outputs": [],
   "source": [
    "# Plot energy and stresses\n",
    "import matplotlib.pyplot as plt\n",
    "\n",
    "def plot_stress():\n",
    "    plt.plot(forces[:,0], forces[:,1], '-o', linewidth = 2)\n",
    "    plt.xlabel('Displacement')\n",
    "    plt.ylabel('Force')\n",
    "\n",
    "def plot_energy():\n",
    "    p1, = plt.plot(energies[:,0], energies[:,1],'-o',linewidth=2)\n",
    "    p2, = plt.plot(energies[:,0], energies[:,2],'-^',linewidth=2)\n",
    "    p3, = plt.plot(energies[:,0], energies[:,3],'--',linewidth=2)\n",
    "    plt.legend([p1, p2, p3], [\"Elastic\",\"Dissipated\",\"Total\"])\n",
    "    plt.xlabel('Displacement')\n",
    "    plt.ylabel('Energies')\n",
    "\n",
    "def plot_energy_stress():\n",
    "    plt.subplot(211)\n",
    "    plot_stress()\n",
    "    plt.subplot(212)\n",
    "    plot_energy()\n",
    "    plt.savefig(savedir+'/energies_force.png')\n",
    "    plt.show()\n",
    "\n",
    "plot_energy_stress()"
   ]
  },
  {
   "cell_type": "code",
   "execution_count": null,
   "metadata": {},
   "outputs": [],
   "source": [
    "plt.close()"
   ]
  },
  {
   "cell_type": "code",
   "execution_count": null,
   "metadata": {},
   "outputs": [],
   "source": []
  }
 ],
 "metadata": {
  "kernelspec": {
   "display_name": "Python 3",
   "language": "python",
   "name": "python3"
  },
  "language_info": {
   "codemirror_mode": {
    "name": "ipython",
    "version": 3
   },
   "file_extension": ".py",
   "mimetype": "text/x-python",
   "name": "python",
   "nbconvert_exporter": "python",
   "pygments_lexer": "ipython3",
   "version": "3.7.0"
  }
 },
 "nbformat": 4,
 "nbformat_minor": 2
}
