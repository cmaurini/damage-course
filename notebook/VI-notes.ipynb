{
 "cells": [
  {
   "cell_type": "markdown",
   "metadata": {},
   "source": [
    "    \n",
    "# Variational inequalities\n",
    "Consider the following model problem: \n",
    "$$\n",
    "\\min_{\\alpha \\in\\mathcal D} F(\\alpha)\n",
    "$$\n",
    "\n",
    "with\n",
    "$$\n",
    "F(\\alpha) = \\int_\\Omega \\mathcal f(x,\\alpha(x))+\\ell^2(x){\\nabla\\alpha(x)}dx\n",
    "$$\n",
    "and\n",
    "$$\n",
    "\\mathcal D\\equiv \\{\\alpha:x\\in\\Omega\\to \\mathcal R, \\quad \\alpha\\geq \\bar \\alpha(x), \\quad \\alpha = \\alpha_D \\text{ on }\\partial_D\\Omega  \\}\n",
    "$$\n",
    "The problem may be rewritten more explicitly as:\n",
    "\n",
    "Find $\\alpha\\in\\mathcal D$ such that \n",
    "$$\n",
    "F(\\beta)-F(\\alpha)\\geq 0,\\quad\\forall \\beta\\in \\mathcal D\n",
    "$$\n",
    "\n",
    "The difficulty is that \n",
    "$\\mathcal D$ is not a linear space, but a convex cone. This kind of problems is a unilateral constrained minimization problem. \n",
    "\n",
    "We consider the case where $F$ is a convex functional. Under this hypothesis, it can be shown that the solution of the problem is unique. \n",
    "\n",
    "We say that $\\alpha$ is local minimum if  \n",
    "$$\\exists \\bar h>0:\n",
    "F(\\beta)-F(\\alpha) \\geq 0, \\forall \\beta\\in\\mathcal D \\text{ such that }\\Vert\\beta-\\alpha\\Vert\\leq \\bar h\n",
    "$$\n",
    "\n",
    "For a convex functional there exist a single local minimum, which is also the global minimum. We assume here and henceforth that $\\Vert\\cdot\\Vert$ is the $H^1$ norm if $\\ell>0$ and the $L_2$  norm if $\\ell=0$.\n"
   ]
  },
  {
   "cell_type": "markdown",
   "metadata": {},
   "source": [
    "\n",
    "## First order optimality condition\n",
    "Using a Taylor expansion for $\\Vert\\beta-\\alpha\\Vert\\ll 1$ we can write   \n",
    "$$F(\\beta)-F(\\alpha)= F'(\\alpha)(\\beta-\\alpha)+o(\\Vert\\beta-\\alpha\\Vert)\\geq 0, \\forall \\beta\\in\\mathcal D.\n",
    "$$\n",
    "where\n",
    "$$\n",
    "F'(\\alpha)(\\beta) :=\\left.\\dfrac{d}{dh}F(\\alpha+h\\beta) \\right\\vert_{h=0}=\\int_\\Omega \n",
    "\\frac{\\partial \\mathcal f}{\\partial\\alpha}\\,\\beta+2\\,\\ell^2\\,{\\nabla\\alpha}\\cdot\\nabla\\beta \\,\\mathrm{d}x\n",
    "$$\n",
    "Hence, we obtain the following *first order optimality condition* which is a *Variational Inequality* (VI):\n",
    "\n",
    "\n",
    "$$\n",
    "\\text{Find }\\alpha\\in \\mathcal D \\text{ such that }\n",
    "F'(\\alpha)(\\beta-\\alpha)\\geq 0,\\quad \\forall\\beta\\in \\mathcal D\n",
    "$$\n",
    "It can be show that this variational inequality is verified if and only if the following local conditions are veryfied (derivatives should be understood in the sense of the distributions):\n",
    "\n",
    "* $\\forall x\\in\\Omega$ (almost everywhere)\n",
    "$$\n",
    "(\\alpha-\\bar\\alpha)\\geq 0,\\quad\n",
    "\\left(\\frac{\\partial \\mathcal f}{\\partial\\alpha}\\,\\beta-2\\,\\ell^2\\,{\\Delta\\alpha}\\right) \\geq 0,\\quad\n",
    "(\\alpha-\\bar\\alpha)\\left(\\frac{\\partial \\mathcal f}{\\partial\\alpha}\\,\\beta-2\\,\\ell^2\\,{\\Delta\\alpha}\\right)=0\n",
    "$$\n",
    "\n",
    "* $\\forall x\\in\\partial_N\\Omega=\\partial\\Omega\\setminus\\partial_D\\Omega$, \n",
    "$$\n",
    "(\\alpha-\\bar\\alpha)\\geq 0,\\quad\n",
    "\\nabla\\alpha\\cdot n\\geq 0,\\quad\n",
    "(\\alpha-\\bar\\alpha)(\\nabla\\alpha\\cdot n)= 0\n",
    "$$\n",
    "where $n$ is the external normal to $\\partial \\Omega$"
   ]
  },
  {
   "cell_type": "markdown",
   "metadata": {},
   "source": [
    "# Example\n",
    "\n",
    "Consider the case\n",
    "\n",
    "$$\n",
    "\\min_{\\alpha\\in \\mathcal{D} }F(\\alpha),\\qquad F(\\alpha)=\\int_0^L\\frac{w(\\alpha)}{\\ell}+\\ell\\nabla\\alpha\\cdot\\nabla\\alpha\\,\\mathrm{d}x\n",
    "$$\n",
    "with\n",
    "$$\n",
    "\\mathcal D\\equiv \\{\\alpha:x\\in(0,L)\\to \\mathcal R, \\quad \\alpha\\geq  0, \n",
    "\\quad \\alpha(0) = 0, \\quad \\alpha(L) = 0   \\}\n",
    "$$\n",
    "where $\\alpha:[0,L]\\to \\mathbb{R}$, $w(\\alpha)=\\alpha {w}_1$ is an increasing function, ${w}_1>0$, $\\ell>0$."
   ]
  },
  {
   "cell_type": "code",
   "execution_count": null,
   "metadata": {},
   "outputs": [],
   "source": []
  }
 ],
 "metadata": {
  "kernelspec": {
   "display_name": "Python 3",
   "language": "python",
   "name": "python3"
  },
  "language_info": {
   "codemirror_mode": {
    "name": "ipython",
    "version": 3
   },
   "file_extension": ".py",
   "mimetype": "text/x-python",
   "name": "python",
   "nbconvert_exporter": "python",
   "pygments_lexer": "ipython3",
   "version": "3.7.0"
  }
 },
 "nbformat": 4,
 "nbformat_minor": 2
}
