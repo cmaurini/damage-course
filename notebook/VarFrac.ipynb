{
 "cells": [
  {
   "cell_type": "markdown",
   "metadata": {
    "colab_type": "text",
    "id": "o1rOnnKOer2R"
   },
   "source": [
    "# A tutorial on gradient damage as phase-field models of brittle fracture\n",
    "* Author: Corrado Maurini, 2018, corrado.maurini@upmc.fr\n",
    "* This file is distributed as support to the class *5AG08 - Endommagement et Rupture*  of the Master *Mécanique des solides* of UPMC\n",
    "\n",
    "In this notebook we implement a numerical solution of the quasi-static evolution problem for gradient damage models, and show how they can be used to solve brittle fracture problems.\n",
    "\n",
    "Denoting by $u$ the displacement field (vector valued) and by $\\alpha$ the scalar damage field we consider the energy functional\n",
    "\n",
    "$$\n",
    "\t\t\\mathcal{E}_{\\ell}(u, \\alpha)=\n",
    "\t\t\\dfrac{1}{2}\\int_{\\Omega} a({\\alpha})\n",
    "\t\tA_0\\,\\epsilon(u)\\cdot\\epsilon(u)\\,dx\n",
    "\t\t+\n",
    "         \\,\n",
    "\t\t\\dfrac{G_c}{c_w} \\int_{\\Omega}\\left(\n",
    "\t\t\\dfrac{w(\\alpha)}{\\ell}+\n",
    "\t\t{\\ell}\\,\\nabla {\\alpha}\\cdot\\nabla{\\alpha}\\right)dx\n",
    "$$\n",
    "\n",
    "where $\\epsilon(u)$ is the strain tensor, $\\sigma_0(u)=A_0\\,\\epsilon(u)$ the stress of the undamaged material, $a({\\alpha})$  the stiffness modulation function though the damage field, $w_1\\,w(\\alpha)$ the energy dissipation in an homogeouns process and $\\ell$ the internal length.\n",
    "\n",
    "In the following we will solve, at each time step $t_i$ the minimization problem \n",
    "\n",
    "$$\n",
    "\\min\\mathcal{E}_{\\ell}(u, \\alpha),\\quad u\\in\\mathcal{C}_i, \\alpha\\in \\mathcal{D}_i\n",
    "$$\n",
    "\n",
    "where $\\mathcal{C}_i$ is the space of kinematically admissible displacement at \n",
    "time $t_i$ and $\\mathcal{D}_i$ the admissible damage fields, that should respect the irreversibility conditions \n",
    "$\\alpha\\geq\\alpha_{i-1}$. \n",
    "\n",
    "Here we will\n",
    " * Discretize the problme using $P_1$ finite elements for the displacement and the damage field\n",
    " * Use alternate minimization to solve the minimization problem at each time step\n",
    " * Use FEniCS/PETSc/TAO solver to solve linear problems and variational inequality at discrete level\n",
    " \n",
    "*Note: This Notebook includes the full code to solve the problem. We suggest to skip the reading of the sections marked with the label\n",
    "**(skip)**\n",
    "in a first reading of the notebook. These parts contains purely technical details that are not interesting to understanding the core of the program. You can evanluate them without trying to understand the content in a first step."
   ]
  },
  {
   "cell_type": "markdown",
   "metadata": {
    "colab_type": "text",
    "id": "pnn3YykUer2S"
   },
   "source": [
    "We will consider here the specific problem of the **traction of a two-dimensional bar in plane-stress**, where\n",
    "$\n",
    "\\Omega =[0,L]\\times[0,H]\n",
    "$ and the loading is given by \n",
    "under imposed end-displacement $u=(t,0)$ in $x=L$, the left-end being clamped : $u=(0,0)$ in $x=0$. You can solve more coplex problem by simply twicking of this file.\n",
    "\n",
    "You can find further informations about this model here:\n",
    "- Marigo, J.-J., Maurini, C., & Pham, K. (2016). An overview of the modelling of fracture by gradient damage models. Meccanica, 1–22. https://doi.org/10.1007/s11012-016-0538-4 "
   ]
  },
  {
   "cell_type": "markdown",
   "metadata": {
    "colab_type": "text",
    "id": "XdKu5cCBer2U"
   },
   "source": [
    "# Preamble (skip)\n",
    "\n",
    "You can safely skip reading this section at first reading. Here we import the required python modules and set few parameters."
   ]
  },
  {
   "cell_type": "code",
   "execution_count": null,
   "metadata": {
    "colab": {
     "base_uri": "https://localhost:8080/",
     "height": 416
    },
    "colab_type": "code",
    "executionInfo": {
     "elapsed": 15278,
     "status": "ok",
     "timestamp": 1542105520944,
     "user": {
      "displayName": "Corrado Maurini",
      "photoUrl": "https://lh5.googleusercontent.com/-jydHMLpXCzM/AAAAAAAAAAI/AAAAAAAAMc4/loKWFO5F1BI/s64/photo.jpg",
      "userId": "14179705889588379324"
     },
     "user_tz": -60
    },
    "id": "gVc2omtmfLF6",
    "outputId": "ee0e1c13-f11f-4b27-da89-a8a69b81d459"
   },
   "outputs": [],
   "source": [
    "try : \n",
    "    from google.colab import files\n",
    "except:\n",
    "    pass\n",
    "try:\n",
    "    from dolfin import *; from mshr import *\n",
    "except ImportError as e:\n",
    "    !add-apt-repository -y ppa:fenics-packages/fenics\n",
    "    !apt-get update -qq\n",
    "    !apt install -y --no-install-recommends fenics    \n",
    "    from dolfin import *; from mshr import *\n",
    "    \n",
    "import matplotlib.pyplot as plt;\n",
    "import numpy as np;\n",
    "import time\n",
    "%matplotlib inline\n",
    "plt.rcParams['image.cmap'] = 'viridis'\n",
    "!dolfin-version\n",
    "import sys, os, sympy, shutil, math\n",
    "%matplotlib inline\n",
    "parameters[\"form_compiler\"].update({\"optimize\": True, \"cpp_optimize\": True, \n",
    "                                 \"representation\":\"uflacs\", \"quadrature_degree\": 2})"
   ]
  },
  {
   "cell_type": "markdown",
   "metadata": {
    "colab_type": "text",
    "id": "k78eeo7yer2Z"
   },
   "source": [
    "# Mesh \n",
    "\n",
    "We define here the mesh and the indicators for the boundary conditions. We used `mshr`, the meshing utility provided by FEniCS: https://bitbucket.org/fenics-project/mshr"
   ]
  },
  {
   "cell_type": "code",
   "execution_count": null,
   "metadata": {
    "colab": {
     "base_uri": "https://localhost:8080/",
     "height": 160
    },
    "colab_type": "code",
    "executionInfo": {
     "elapsed": 522,
     "status": "ok",
     "timestamp": 1542105525971,
     "user": {
      "displayName": "Corrado Maurini",
      "photoUrl": "https://lh5.googleusercontent.com/-jydHMLpXCzM/AAAAAAAAAAI/AAAAAAAAMc4/loKWFO5F1BI/s64/photo.jpg",
      "userId": "14179705889588379324"
     },
     "user_tz": -60
    },
    "id": "S_mNubT0er2a",
    "outputId": "194c1fe6-d078-4aae-f1f4-46a7f9c6595f"
   },
   "outputs": [],
   "source": [
    "L = 1.; H = 0.1;\n",
    "cell_size = 0.02;\n",
    "nel = int(L/cell_size)\n",
    "geom = Rectangle(Point(0., 0.), Point(L, H))\n",
    "mesh = generate_mesh(geom,nel)\n",
    "ndim = mesh.topology().dim() # get number of space dimensions\n",
    "plot(mesh)"
   ]
  },
  {
   "cell_type": "markdown",
   "metadata": {
    "colab_type": "text",
    "id": "mEWA9qYuer2e"
   },
   "source": [
    "### Boundary indicators  (skip) \n",
    "We define below boundary indicators to impose boundary conditions and add the corresponding tags to the boundaries."
   ]
  },
  {
   "cell_type": "code",
   "execution_count": null,
   "metadata": {
    "colab": {
     "base_uri": "https://localhost:8080/",
     "height": 160
    },
    "colab_type": "code",
    "executionInfo": {
     "elapsed": 3634,
     "status": "ok",
     "timestamp": 1542105531723,
     "user": {
      "displayName": "Corrado Maurini",
      "photoUrl": "https://lh5.googleusercontent.com/-jydHMLpXCzM/AAAAAAAAAAI/AAAAAAAAMc4/loKWFO5F1BI/s64/photo.jpg",
      "userId": "14179705889588379324"
     },
     "user_tz": -60
    },
    "id": "1MmzZY_Zer2f",
    "outputId": "51ba8cda-7f76-4343-fdc2-c4d6dce41bcf"
   },
   "outputs": [],
   "source": [
    "left = CompiledSubDomain(\"near(x[0], 0, 1e-4)\")\n",
    "right = CompiledSubDomain(\"near(x[0], %s, 1e-4)\"%L)\n",
    "boundaries = MeshFunction(\"size_t\", mesh,1)\n",
    "boundaries.set_all(0)\n",
    "left.mark(boundaries, 1) # mark left as 1\n",
    "right.mark(boundaries, 2) # mark right as 2\n",
    "ds = Measure(\"ds\",subdomain_data=boundaries) # left: ds(1), right: ds(2)\n",
    "plot(mesh)"
   ]
  },
  {
   "cell_type": "markdown",
   "metadata": {
    "colab_type": "text",
    "id": "glu29jUver2j"
   },
   "source": [
    "# Variational formulation of the problem"
   ]
  },
  {
   "cell_type": "markdown",
   "metadata": {
    "colab_type": "text",
    "id": "IELp_KKger2j"
   },
   "source": [
    "## Constitutive functions\n",
    "\n",
    "We define here the constitutive functions and the related parameters. \n",
    "These functions will be used to define the energy. You can try to change them, the code is sufficiently generic to allows for a wide class of function $w$ and $a$.\n",
    "\n",
    "**Exercice:** Show by dimensional analysis that varying $G_c$ and $E$ is equivalent to a rescaling of the displacement by a factor \n",
    "\n",
    "$$\n",
    "u_0 = \\sqrt{\\frac{G_c L}{E}}\n",
    "$$\n",
    "\n",
    "We can then choose these constants freely in the numerical work and simply rescale the displacement to match the material data of a specific brittle material. \n",
    "The *real* material parameters (in the sense that they are those that affect the results) are   \n",
    "- the Poisson ratio $\\nu$ and \n",
    "- the ratio $\\ell/L$ between internal length $\\ell$ and the domain size $L$. "
   ]
  },
  {
   "cell_type": "code",
   "execution_count": null,
   "metadata": {
    "colab": {},
    "colab_type": "code",
    "id": "mNpej74per2k"
   },
   "outputs": [],
   "source": [
    "E, nu = Constant(100.0), Constant(0.3)\n",
    "Gc = Constant(1.0)\n",
    "ell = Constant(0.05)\n",
    "\n",
    "def w(alpha):\n",
    "    \"\"\"Dissipated energy function as a function of the damage \"\"\"\n",
    "    return alpha\n",
    "\n",
    "def a(alpha):\n",
    "    \"\"\"Stiffness modulation as a function of the damage \"\"\"\n",
    "    k_ell = Constant(1.e-6) # residual stiffness\n",
    "    return (1-alpha)**2+k_ell\n",
    "\n",
    "def eps(u):\n",
    "    \"\"\"Strain tensor as a function of the displacement\"\"\"\n",
    "    return sym(grad(u))\n",
    "\n",
    "def sigma_0(u):\n",
    "    \"\"\"Stress tensor of the undamaged material as a function of the displacement\"\"\"\n",
    "    mu    = E/(2.0*(1.0 + nu))\n",
    "    lmbda = E*nu/(1.0 - nu**2)\n",
    "    return 2.0*mu*(eps(u)) + lmbda*tr(eps(u))*Identity(ndim)\n",
    "\n",
    "def sigma(u,alpha):\n",
    "    \"\"\"Stress tensor of the damaged material as a function of the displacement and the damage\"\"\"\n",
    "    return (a(alpha))*sigma_0(u)\n"
   ]
  },
  {
   "cell_type": "markdown",
   "metadata": {
    "colab_type": "text",
    "id": "JHfoqDbLer2n"
   },
   "source": [
    "**Exercise:** Show that \n",
    "1. One can relate the dissipation constant $w_1$ to the energy dissipated in a smeared representation of a crack through the following relation:\n",
    "\\begin{equation}\n",
    "{G_c}={c_w}\\,w_1\\ell,\\qquad c_w =4\\int_0^1\\sqrt{w(\\alpha)}d\\alpha\n",
    "\\end{equation}\n",
    "2. The half-width of a localisation zone is given by:\n",
    "$$\n",
    "D =  c_{1/w} \\ell,\\qquad c_{1/w}=\\int_0^1 \\frac{1}{\\sqrt{w(\\alpha)}}d\\alpha\n",
    "$$\n",
    "3. The elastic limit of the material is:\n",
    "$$\n",
    "\\sigma_c = \\sqrt{w_1\\,E_0}\\sqrt{\\dfrac{2w'(0)}{s'(0)}}= \\sqrt{\\dfrac{G_cE_0}{\\ell c_w}}\n",
    "\\sqrt{\\dfrac{2w'(0)}{s'(0)}}\n",
    "$$\n",
    "*Hint:* Calculate the damage profile and the energy of a localised solution with vanishing stress in a 1d traction problem\n",
    "\n",
    "For the function above we get (we perform the integral with `sympy`)."
   ]
  },
  {
   "cell_type": "code",
   "execution_count": null,
   "metadata": {
    "colab": {
     "base_uri": "https://localhost:8080/",
     "height": 128
    },
    "colab_type": "code",
    "executionInfo": {
     "elapsed": 945,
     "status": "ok",
     "timestamp": 1542105533476,
     "user": {
      "displayName": "Corrado Maurini",
      "photoUrl": "https://lh5.googleusercontent.com/-jydHMLpXCzM/AAAAAAAAAAI/AAAAAAAAMc4/loKWFO5F1BI/s64/photo.jpg",
      "userId": "14179705889588379324"
     },
     "user_tz": -60
    },
    "id": "ICvBNgFper2n",
    "outputId": "2cbb6b03-22b3-4552-9677-c0b615881f18"
   },
   "outputs": [],
   "source": [
    "z = sympy.Symbol(\"z\")\n",
    "c_w = 4*sympy.integrate(sympy.sqrt(w(z)),(z,0,1))\n",
    "print(\"c_w = \",c_w)\n",
    "c_1w = sympy.integrate(sympy.sqrt(1/w(z)),(z,0,1))\n",
    "print(\"c_1/w = \",c_1w)\n",
    "tmp = 2*(sympy.diff(w(z),z)/sympy.diff(1/a(z),z)).subs({\"z\":0})\n",
    "sigma_c = sympy.sqrt(tmp*Gc*E/(c_w*ell))\n",
    "print(\"sigma_c = %2.3f\"%sigma_c)\n",
    "eps_c = float(sigma_c/E)\n",
    "print(\"eps_c = %2.3f\"%eps_c)"
   ]
  },
  {
   "cell_type": "markdown",
   "metadata": {
    "colab_type": "text",
    "id": "0IYnqYY_er2q"
   },
   "source": [
    "## Finite element function space\n",
    "\n",
    "We use $P_1$ finite element (triangle with linear Lagrange polynomial as shape functions and nodal values as dofs) for both displacement and damage. "
   ]
  },
  {
   "cell_type": "code",
   "execution_count": null,
   "metadata": {
    "colab": {
     "base_uri": "https://localhost:8080/",
     "height": 92
    },
    "colab_type": "code",
    "executionInfo": {
     "elapsed": 2839,
     "status": "ok",
     "timestamp": 1542105536360,
     "user": {
      "displayName": "Corrado Maurini",
      "photoUrl": "https://lh5.googleusercontent.com/-jydHMLpXCzM/AAAAAAAAAAI/AAAAAAAAMc4/loKWFO5F1BI/s64/photo.jpg",
      "userId": "14179705889588379324"
     },
     "user_tz": -60
    },
    "id": "NQgVumDner2r",
    "outputId": "dab78d1a-3c0f-4595-d509-ca12eca0456c"
   },
   "outputs": [],
   "source": [
    "# Create function space for 2D elasticity + Damage\n",
    "V_u = VectorFunctionSpace(mesh, \"P\", 1)\n",
    "V_alpha = FunctionSpace(mesh, \"P\", 1)\n",
    "\n",
    "# Define the function, test and trial fields\n",
    "u, du, v = Function(V_u), TrialFunction(V_u), TestFunction(V_u)\n",
    "alpha, dalpha, beta = Function(V_alpha), TrialFunction(V_alpha), TestFunction(V_alpha)\n",
    "u.rename('displacement','displacement')\n",
    "u.rename('damage','damage')"
   ]
  },
  {
   "cell_type": "markdown",
   "metadata": {
    "colab_type": "text",
    "id": "bZqaI6gYer2t"
   },
   "source": [
    "### Energy functional and its derivatives\n",
    "\n",
    "We use the `UFL` \n",
    " component of FEniCS to define the energy functional.\n",
    "Directional derivatives of the energy are computed using symbolic computation functionalities of `UFL`, see http://fenics-ufl.readthedocs.io/en/latest/"
   ]
  },
  {
   "cell_type": "code",
   "execution_count": null,
   "metadata": {
    "colab": {},
    "colab_type": "code",
    "id": "Gc6yeO54er2u"
   },
   "outputs": [],
   "source": [
    "elastic_energy = 0.5*inner(sigma(u,alpha), eps(u))*dx\n",
    "dissipated_energy = Gc/float(c_w)*(w(alpha)/ell + ell*dot(grad(alpha), grad(alpha)))*dx\n",
    "total_energy = elastic_energy + dissipated_energy \n",
    "# First directional derivative wrt u\n",
    "E_u = derivative(total_energy,u,v)\n",
    "# First and second directional derivative wrt alpha\n",
    "E_alpha = derivative(total_energy,alpha,beta)\n",
    "E_alpha_alpha = derivative(E_alpha,alpha,dalpha)"
   ]
  },
  {
   "cell_type": "markdown",
   "metadata": {
    "colab_type": "text",
    "id": "lxiXmQtXer2v"
   },
   "source": [
    "### Boundary conditions\n",
    "We impose the boundary conditions on the displacement and the damage field. \n",
    "- We impose null damage where there are Dirichlet boundary condition on the displacement\n",
    "- We use an Expression for the imposed displacement to vary it during the loading history"
   ]
  },
  {
   "cell_type": "code",
   "execution_count": null,
   "metadata": {
    "colab": {},
    "colab_type": "code",
    "id": "Obn13F7Cer2w"
   },
   "outputs": [],
   "source": [
    "# Displacement\n",
    "u_R = Expression((\"t\",\"0\"),t = 0.,degree=0)\n",
    "bcu_0 = DirichletBC(V_u, u_R, boundaries, 2)\n",
    "bcu_1 = DirichletBC(V_u, Constant((0.,0.)), boundaries, 1)\n",
    "bc_u = [bcu_0, bcu_1]\n",
    "# Damage\n",
    "bcalpha_0 = DirichletBC(V_alpha, 0.0, boundaries, 1)\n",
    "bcalpha_1 = DirichletBC(V_alpha, 0.0, boundaries, 2)\n",
    "bc_alpha = [bcalpha_0, bcalpha_1]"
   ]
  },
  {
   "cell_type": "markdown",
   "metadata": {
    "colab_type": "text",
    "id": "5trh5kFJer2x"
   },
   "source": [
    "# Solvers"
   ]
  },
  {
   "cell_type": "markdown",
   "metadata": {
    "colab_type": "text",
    "id": "HOXVWrWMer2x"
   },
   "source": [
    "### Displacement problem\n",
    "The $u$-problem at fixed $\\alpha$ is a linear problem corresponding with linear elasticity. We solve it with a standard linear solver. We use automatic differention to get the first derivative of the energy. We use a direct solve to solve the linear system (`umfpack`), but you can also easily set iterative solvers and preconditioners when solving large problem in parallel."
   ]
  },
  {
   "cell_type": "code",
   "execution_count": null,
   "metadata": {
    "colab": {
     "base_uri": "https://localhost:8080/",
     "height": 144
    },
    "colab_type": "code",
    "executionInfo": {
     "elapsed": 5840,
     "status": "ok",
     "timestamp": 1542105546456,
     "user": {
      "displayName": "Corrado Maurini",
      "photoUrl": "https://lh5.googleusercontent.com/-jydHMLpXCzM/AAAAAAAAAAI/AAAAAAAAMc4/loKWFO5F1BI/s64/photo.jpg",
      "userId": "14179705889588379324"
     },
     "user_tz": -60
    },
    "id": "aoPHr3h-er2y",
    "outputId": "72ee3ca3-28ce-4aeb-d717-dab59fae3bb9"
   },
   "outputs": [],
   "source": [
    "import ufl\n",
    "E_du = ufl.replace(E_u,{u:du})\n",
    "problem_u = LinearVariationalProblem(lhs(E_du), rhs(E_du), u, bc_u)\n",
    "solver_u = LinearVariationalSolver(problem_u)\n",
    "solver_u.parameters.update({\"linear_solver\" : \"umfpack\"})"
   ]
  },
  {
   "cell_type": "markdown",
   "metadata": {
    "colab_type": "text",
    "id": "yETlzbzzer2z"
   },
   "source": [
    "### Damage problem with bound-constraints\n",
    "\n",
    "The $\\alpha$-problem at fixed $u$ is a variational inequality, because of the irreversibility constraint. We solve it using a specific solver for optimisation problems with bound-constraints provided by `PETSC`, called `TAO`. To this end we define with a specific syntax a class defining the function to be minimised, and the lower (`lb`) and upper (`ub`) bounds. "
   ]
  },
  {
   "cell_type": "code",
   "execution_count": null,
   "metadata": {
    "colab": {},
    "colab_type": "code",
    "id": "7lUWU67ker20"
   },
   "outputs": [],
   "source": [
    "class DamageProblem(OptimisationProblem):\n",
    "\n",
    "    def f(self, x):\n",
    "        \"\"\"Function to be minimised\"\"\"\n",
    "        alpha.vector()[:] = x\n",
    "        return assemble(total_energy)\n",
    "\n",
    "    def F(self, b, x):\n",
    "        \"\"\"Gradient (first derivative)\"\"\"\n",
    "        alpha.vector()[:] = x\n",
    "        assemble(E_alpha, b)\n",
    "\n",
    "    def J(self, A, x):\n",
    "        \"\"\"Hessian (second derivative)\"\"\"\n",
    "        alpha.vector()[:] = x\n",
    "        assemble(E_alpha_alpha, A)\n",
    "\n",
    "solver_alpha_tao = PETScTAOSolver()\n",
    "solver_alpha_tao.parameters.update({\"method\": \"tron\",\"linear_solver\" : \"umfpack\", \n",
    "                                    \"line_search\": \"gpcg\", \"report\": True})\n",
    "lb = interpolate(Constant(\"0.\"), V_alpha) # lower bound, initialize to 0\n",
    "ub = interpolate(Constant(\"1.\"), V_alpha) # upper bound, set to 1\n",
    "for bc in bc_alpha:\n",
    "    bc.apply(lb.vector())\n",
    "    bc.apply(ub.vector())"
   ]
  },
  {
   "cell_type": "markdown",
   "metadata": {
    "colab_type": "text",
    "id": "0udH0Gdfer21"
   },
   "source": [
    "### Alternate minimization\n",
    "\n",
    "We solve the nonlinear problem in $(u,\\alpha)$ at each time-step by a fixed-point algorithm consisting in alternate minimization with respect to $u$ at fixed $\\alpha$ and viceversa, *i.e.* we solve till convergence the $u$- and the $\\alpha$-problems above."
   ]
  },
  {
   "cell_type": "code",
   "execution_count": null,
   "metadata": {
    "colab": {},
    "colab_type": "code",
    "id": "3avBNEUYer21"
   },
   "outputs": [],
   "source": [
    "def alternate_minimization(u,alpha,tol=1.e-5,maxiter=100,alpha_0=interpolate(Constant(\"0.0\"), V_alpha)):\n",
    "    # initialization\n",
    "    iter = 1; err_alpha = 1\n",
    "    alpha_error = Function(V_alpha)\n",
    "    # iteration loop\n",
    "    while err_alpha>tol and iter<maxiter:\n",
    "        # solve elastic problem\n",
    "        solver_u.solve()\n",
    "        # solve damage problem\n",
    "        #solver_alpha.solve()\n",
    "        solver_alpha_tao.solve(DamageProblem(), alpha.vector(), lb.vector(), ub.vector())# test error\n",
    "        alpha_error.vector()[:] = alpha.vector() - alpha_0.vector()\n",
    "        err_alpha = norm(alpha_error.vector(),\"linf\")\n",
    "        # monitor the results\n",
    "        if MPI.comm_world.rank == 0:\n",
    "            print(\"Iteration:  %2d, Error: %2.8g, alpha_max: %.8g\" %(iter, err_alpha, alpha.vector().max()))\n",
    "        # update iteration\n",
    "        alpha_0.assign(alpha)\n",
    "        iter=iter+1\n",
    "    return (err_alpha, iter)"
   ]
  },
  {
   "cell_type": "markdown",
   "metadata": {
    "colab_type": "text",
    "id": "R14s2Ayger22"
   },
   "source": [
    "# Time stepping\n",
    "\n",
    "We define the load history as a set of values to impose to the end displacement. Here we solve a rate-indipendent problem and we can identify the loading with time."
   ]
  },
  {
   "cell_type": "code",
   "execution_count": null,
   "metadata": {
    "colab": {},
    "colab_type": "code",
    "id": "kkueA9oJer23"
   },
   "outputs": [],
   "source": [
    "load0 = float(eps_c)*L # reference value for the loading (imposed displacement)\n",
    "loads = load0*np.linspace(0,1.5,30)"
   ]
  },
  {
   "cell_type": "markdown",
   "metadata": {
    "colab_type": "text",
    "id": "LnqsI3b-er24"
   },
   "source": [
    "## Time-step post-processing (skip)\n",
    "\n",
    "We define here a utility function performing some post-processing to do at the end of each time-step.\n",
    "You can sefely skip reading this section in a first reading of the code. "
   ]
  },
  {
   "cell_type": "code",
   "execution_count": null,
   "metadata": {
    "colab": {},
    "colab_type": "code",
    "id": "gySiyQlrer24"
   },
   "outputs": [],
   "source": [
    "savedir = \"results/\"\n",
    "if os.path.isdir(savedir):\n",
    "    shutil.rmtree(savedir)    \n",
    "file_alpha = File(savedir+\"/alpha.pvd\") \n",
    "file_u = File(savedir+\"/u.pvd\") \n",
    "#  loading and initialization of vectors to store time datas\n",
    "energies = np.zeros((len(loads),4))\n",
    "iterations = np.zeros((len(loads),2))\n",
    "forces = np.zeros((len(loads),2))\n",
    "def postprocessing():\n",
    "    plt.figure(i_t)\n",
    "    plot(alpha,range_min=0.,range_max=1.,title=\"Damage at loading %.4f\"%t)\n",
    "    # Save number of iterations for the time step\n",
    "    iterations[i_t] = np.array([t,i_t])\n",
    "    # Calculate the energies\n",
    "    elastic_energy_value = assemble(elastic_energy)\n",
    "    surface_energy_value = assemble(dissipated_energy)\n",
    "    if MPI.comm_world.rank == 0:\n",
    "        print(\"\\nEnd of timestep %d with load %g\"%(i_t, t))\n",
    "        print(\"\\nElastic and surface energies: (%g,%g)\"%(elastic_energy_value,surface_energy_value))\n",
    "        print(\"-----------------------------------------\")\n",
    "    energies[i_t] = np.array([t,elastic_energy_value,surface_energy_value,elastic_energy_value+surface_energy_value])\n",
    "    # Calculate the axial force resultant\n",
    "    forces[i_t] = np.array([t,assemble(sigma(u,alpha)[0,0]*ds(1))])\n",
    "    # Dump solution to file\n",
    "    file_alpha << (alpha,t)\n",
    "    file_u << (u,t)\n",
    "    # Save some global quantities as a function of the time\n",
    "    np.savetxt(savedir+'/energies.txt', energies)\n",
    "    np.savetxt(savedir+'/forces.txt', forces)\n",
    "    np.savetxt(savedir+'/iterations.txt', iterations)"
   ]
  },
  {
   "cell_type": "markdown",
   "metadata": {
    "colab_type": "text",
    "id": "QQQ09viNer25"
   },
   "source": [
    "## Solving at each time instant and loop in time\n",
    "\n",
    "Here we solve the problem finding the solution at each time step. This can take time. Computations are performed here."
   ]
  },
  {
   "cell_type": "code",
   "execution_count": null,
   "metadata": {
    "colab": {
     "base_uri": "https://localhost:8080/",
     "height": 6212
    },
    "colab_type": "code",
    "executionInfo": {
     "elapsed": 16472,
     "status": "ok",
     "timestamp": 1542105565339,
     "user": {
      "displayName": "Corrado Maurini",
      "photoUrl": "https://lh5.googleusercontent.com/-jydHMLpXCzM/AAAAAAAAAAI/AAAAAAAAMc4/loKWFO5F1BI/s64/photo.jpg",
      "userId": "14179705889588379324"
     },
     "user_tz": -60
    },
    "id": "FrpKajzser26",
    "outputId": "c352b975-5d53-4e8e-ce10-1cd264f5dfdf"
   },
   "outputs": [],
   "source": [
    "lb.interpolate(Constant(0.))\n",
    "for (i_t, t) in enumerate(loads):\n",
    "    u_R.t = t\n",
    "    # solve alternate minimization\n",
    "    alternate_minimization(u,alpha,maxiter=30)\n",
    "    # updating the lower bound to account for the irreversibility\n",
    "    lb.vector()[:] = alpha.vector()\n",
    "    postprocessing()\n"
   ]
  },
  {
   "cell_type": "markdown",
   "metadata": {
    "colab_type": "text",
    "id": "VGMLV3YAer27"
   },
   "source": [
    "# Postprocessing (skip)\n",
    "We show the final deformed configuration and damage field"
   ]
  },
  {
   "cell_type": "code",
   "execution_count": null,
   "metadata": {
    "colab": {
     "base_uri": "https://localhost:8080/",
     "height": 200
    },
    "colab_type": "code",
    "executionInfo": {
     "elapsed": 942,
     "status": "ok",
     "timestamp": 1542105566317,
     "user": {
      "displayName": "Corrado Maurini",
      "photoUrl": "https://lh5.googleusercontent.com/-jydHMLpXCzM/AAAAAAAAAAI/AAAAAAAAMc4/loKWFO5F1BI/s64/photo.jpg",
      "userId": "14179705889588379324"
     },
     "user_tz": -60
    },
    "id": "7qvK76aier28",
    "outputId": "cc8bc0aa-e622-4b03-c48d-11ab4667ae37"
   },
   "outputs": [],
   "source": [
    "plt.figure(0)\n",
    "plot(u,mode='displacement')\n",
    "plt.figure(1)\n",
    "plot(alpha)"
   ]
  },
  {
   "cell_type": "markdown",
   "metadata": {
    "colab_type": "text",
    "id": "Pvdltjiuer29"
   },
   "source": [
    "Hence we plot the energy and the traction force as a function of the loading"
   ]
  },
  {
   "cell_type": "code",
   "execution_count": null,
   "metadata": {
    "colab": {
     "base_uri": "https://localhost:8080/",
     "height": 320
    },
    "colab_type": "code",
    "executionInfo": {
     "elapsed": 1134,
     "status": "ok",
     "timestamp": 1542105567483,
     "user": {
      "displayName": "Corrado Maurini",
      "photoUrl": "https://lh5.googleusercontent.com/-jydHMLpXCzM/AAAAAAAAAAI/AAAAAAAAMc4/loKWFO5F1BI/s64/photo.jpg",
      "userId": "14179705889588379324"
     },
     "user_tz": -60
    },
    "id": "glCRq4sker2-",
    "outputId": "6160cd18-a29b-4907-ccb0-f206ced7e95e"
   },
   "outputs": [],
   "source": [
    "def critical_stress():\n",
    "    xs = sympy.Symbol('x')\n",
    "    wx = w(xs); sx = 1/(E*H*a(xs));\n",
    "    res = sympy.sqrt(2*(Gc*H/c_w)*wx.diff(xs)/(sx.diff(xs)*ell))\n",
    "    return res.evalf(subs={xs:0})\n",
    "\n",
    "def plot_stress():\n",
    "    plt.plot(forces[:,0], forces[:,1], 'b*', linewidth = 2)\n",
    "    plt.xlabel('Displacement')\n",
    "    plt.ylabel('Force')\n",
    "    force_cr = critical_stress()\n",
    "    plt.axvline(x = force_cr/(E*H)*L, color = 'grey', linestyle = '--', linewidth = 2)\n",
    "    plt.axhline(y = force_cr, color = 'grey', linestyle = '--', linewidth = 2)\n",
    "\n",
    "def plot_energy():\n",
    "    p1, = plt.plot(energies[:,0], energies[:,1],'b*',linewidth=2)\n",
    "    p2, = plt.plot(energies[:,0], energies[:,2],'r^',linewidth=2)\n",
    "    p3, = plt.plot(energies[:,0], energies[:,3],'ko',linewidth=2)\n",
    "    plt.legend([p1, p2, p3], [\"Elastic\",\"Dissipated\",\"Total\"])\n",
    "    plt.xlabel('Displacement')\n",
    "    plt.ylabel('Energies')\n",
    "    force_cr = critical_stress()\n",
    "    plt.axvline(x = force_cr/(E*H)*L, color = 'grey',linestyle = '--', linewidth = 2)\n",
    "    plt.axhline(y = H,color = 'grey', linestyle = '--', linewidth = 2)\n",
    "\n",
    "def plot_energy_stress():\n",
    "    plt.subplot(211)\n",
    "    plot_stress()\n",
    "    plt.subplot(212)\n",
    "    plot_energy()\n",
    "    plt.savefig(savedir+'/energies_force.png')\n",
    "    plt.show()\n",
    "\n",
    "plot_energy_stress()"
   ]
  },
  {
   "cell_type": "markdown",
   "metadata": {
    "colab_type": "text",
    "id": "2UCtv-Yker2_"
   },
   "source": [
    "# Verification\n",
    "\n",
    "The plots above indicates that the crack appear at the elastic limit calculated analytically (see the gridlines) and that the dissipated energy coincide with the length of the crack times $G_c$. Let's check the latter explicity"
   ]
  },
  {
   "cell_type": "code",
   "execution_count": null,
   "metadata": {
    "colab": {
     "base_uri": "https://localhost:8080/",
     "height": 92
    },
    "colab_type": "code",
    "executionInfo": {
     "elapsed": 549,
     "status": "ok",
     "timestamp": 1542105568063,
     "user": {
      "displayName": "Corrado Maurini",
      "photoUrl": "https://lh5.googleusercontent.com/-jydHMLpXCzM/AAAAAAAAAAI/AAAAAAAAMc4/loKWFO5F1BI/s64/photo.jpg",
      "userId": "14179705889588379324"
     },
     "user_tz": -60
    },
    "id": "mrptael7er3A",
    "outputId": "c5acef83-f2dc-4795-a450-c8bd51fa5583"
   },
   "outputs": [],
   "source": [
    "print(\"The dissipated energy on a crack is %.3f\"%assemble(dissipated_energy))\n",
    "print(\"The expeceted value is %f\"%H)"
   ]
  },
  {
   "cell_type": "markdown",
   "metadata": {
    "colab_type": "text",
    "id": "C-jo1UDHer3B"
   },
   "source": [
    "Let us look at the damage profile"
   ]
  },
  {
   "cell_type": "code",
   "execution_count": null,
   "metadata": {
    "colab": {
     "base_uri": "https://localhost:8080/",
     "height": 352
    },
    "colab_type": "code",
    "executionInfo": {
     "elapsed": 751,
     "status": "ok",
     "timestamp": 1542105568866,
     "user": {
      "displayName": "Corrado Maurini",
      "photoUrl": "https://lh5.googleusercontent.com/-jydHMLpXCzM/AAAAAAAAAAI/AAAAAAAAMc4/loKWFO5F1BI/s64/photo.jpg",
      "userId": "14179705889588379324"
     },
     "user_tz": -60
    },
    "id": "vKJNyxJ9er3B",
    "outputId": "1b5d2c77-0624-4b51-c22d-1ed722f03527"
   },
   "outputs": [],
   "source": [
    "xs = np.linspace(L/3,2*L/3,1000)\n",
    "plt.plot(xs,[alpha(x,H/2.) for x in xs], '-', label=\"damage profile\")\n",
    "plt.xlabel(\"x\")\n",
    "plt.ylabel(\"alpha\")\n",
    "plt.title(\"Damage profile\")\n",
    "print(\"The expected half-width of the damage localisation is %.2f\"%float(c_1w*ell))"
   ]
  },
  {
   "cell_type": "markdown",
   "metadata": {
    "colab_type": "text",
    "id": "eUZDama2er3C"
   },
   "source": [
    "We can see that the over-dissipation in the finite element approcimation is due to the central element with unit damage, which should be a single point in the inifinite dimensional model. The error can be estimated as $G_c/c_w \\ell*H*h$, where $h$ is the mesh size. Let's check this estimation"
   ]
  },
  {
   "cell_type": "code",
   "execution_count": null,
   "metadata": {
    "colab": {
     "base_uri": "https://localhost:8080/",
     "height": 76
    },
    "colab_type": "code",
    "executionInfo": {
     "elapsed": 532,
     "status": "ok",
     "timestamp": 1542105569438,
     "user": {
      "displayName": "Corrado Maurini",
      "photoUrl": "https://lh5.googleusercontent.com/-jydHMLpXCzM/AAAAAAAAAAI/AAAAAAAAMc4/loKWFO5F1BI/s64/photo.jpg",
      "userId": "14179705889588379324"
     },
     "user_tz": -60
    },
    "id": "5PmS21z5er3D",
    "outputId": "3fed4f66-5402-4b7c-cd4c-73e43eb8b905"
   },
   "outputs": [],
   "source": [
    "Gcerr = float(Gc/c_w/ell)*mesh.hmax()*H\n",
    "print(Gcerr)"
   ]
  },
  {
   "cell_type": "markdown",
   "metadata": {
    "colab_type": "text",
    "id": "chO1cm_Rer3E"
   },
   "source": [
    "This give a better agreement with the analytical result for infinite dimensional model. A numerical trick is to incorporate this error using a corrected value of the fracture toughness to use in the numerical simulations:\n",
    "$$\n",
    "    G_c^\\mathrm{num}=\\frac{G_c}{\\left(1+\\frac{h}{\\ell}c_w\\right)}\n",
    "$$"
   ]
  },
  {
   "cell_type": "code",
   "execution_count": null,
   "metadata": {
    "colab": {
     "base_uri": "https://localhost:8080/",
     "height": 112
    },
    "colab_type": "code",
    "executionInfo": {
     "elapsed": 566,
     "status": "ok",
     "timestamp": 1542105570038,
     "user": {
      "displayName": "Corrado Maurini",
      "photoUrl": "https://lh5.googleusercontent.com/-jydHMLpXCzM/AAAAAAAAAAI/AAAAAAAAMc4/loKWFO5F1BI/s64/photo.jpg",
      "userId": "14179705889588379324"
     },
     "user_tz": -60
    },
    "id": "KhG3CUqGer3E",
    "outputId": "80c64b93-aa1c-4f7e-b5ad-44d70ab67714"
   },
   "outputs": [],
   "source": [
    "print(\"The corrected value of the dissipated energy in the discrete model is %f\"% float(Gcerr+Gc*H))\n",
    "print(\"The dissipated energy on a crack is %.3f\"%assemble(dissipated_energy))"
   ]
  },
  {
   "cell_type": "code",
   "execution_count": null,
   "metadata": {
    "colab": {},
    "colab_type": "code",
    "id": "CITUJV3mer3F"
   },
   "outputs": [],
   "source": []
  }
 ],
 "metadata": {
  "colab": {
   "collapsed_sections": [],
   "name": "VarFrac.ipynb",
   "provenance": [],
   "version": "0.3.2"
  },
  "kernelspec": {
   "display_name": "Python 3",
   "language": "python",
   "name": "python3"
  },
  "language_info": {
   "codemirror_mode": {
    "name": "ipython",
    "version": 3
   },
   "file_extension": ".py",
   "mimetype": "text/x-python",
   "name": "python",
   "nbconvert_exporter": "python",
   "pygments_lexer": "ipython3",
   "version": "3.7.0"
  }
 },
 "nbformat": 4,
 "nbformat_minor": 2
}
